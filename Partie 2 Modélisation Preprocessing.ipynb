{
 "cells": [
  {
   "cell_type": "code",
   "execution_count": 1,
   "metadata": {},
   "outputs": [],
   "source": [
    "import pandas as pd\n",
    "import numpy as np\n",
    "import matplotlib.pyplot as plt\n",
    "import seaborn as sns\n",
    "import os\n",
    "from warnings import filterwarnings\n",
    "filterwarnings('ignore')\n",
    "from scipy.stats import skew, kurtosis, jarque_bera\n",
    "from sklearn.preprocessing import StandardScaler\n",
    "from sklearn.model_selection import train_test_split\n",
    "from sklearn.linear_model import LinearRegression\n",
    "from sklearn import metrics\n",
    "from sklearn.model_selection import cross_val_score\n",
    "from sklearn.decomposition import PCA\n",
    "from tensorflow import keras"
   ]
  },
  {
   "cell_type": "code",
   "execution_count": 2,
   "metadata": {},
   "outputs": [],
   "source": [
    "os.chdir('C:/Users/Joel/Desktop/Serie temporelle')"
   ]
  },
  {
   "cell_type": "code",
   "execution_count": 3,
   "metadata": {},
   "outputs": [],
   "source": [
    "df = pd.read_csv('FINAL_USO.csv', index_col=\"Date\", parse_dates = True)"
   ]
  },
  {
   "cell_type": "markdown",
   "metadata": {},
   "source": [
    "### - [**Regression Linéaire Simple**](#Regression-Linéaire-Simple)\n",
    "### - [**Regression Linéaire Multiple**](#Regression-Linéaire-Multiple)\n",
    "### - [**Preprocessing**](#Preprocessing)"
   ]
  },
  {
   "cell_type": "markdown",
   "metadata": {},
   "source": [
    "### Train et Test Set"
   ]
  },
  {
   "cell_type": "code",
   "execution_count": 9,
   "metadata": {},
   "outputs": [],
   "source": [
    "trainset, testset = train_test_split(df, train_size=0.7, random_state=0)"
   ]
  },
  {
   "cell_type": "code",
   "execution_count": 5,
   "metadata": {},
   "outputs": [
    {
     "data": {
      "text/plain": [
       "(1202, 80)"
      ]
     },
     "execution_count": 5,
     "metadata": {},
     "output_type": "execute_result"
    }
   ],
   "source": [
    "trainset.shape"
   ]
  },
  {
   "cell_type": "code",
   "execution_count": 6,
   "metadata": {},
   "outputs": [
    {
     "data": {
      "text/plain": [
       "(516, 80)"
      ]
     },
     "execution_count": 6,
     "metadata": {},
     "output_type": "execute_result"
    }
   ],
   "source": [
    "testset.shape"
   ]
  },
  {
   "cell_type": "code",
   "execution_count": 10,
   "metadata": {},
   "outputs": [],
   "source": [
    "X_train, y_train = trainset.drop('Adj Close', axis=1), trainset['Adj Close']"
   ]
  },
  {
   "cell_type": "code",
   "execution_count": 8,
   "metadata": {},
   "outputs": [],
   "source": [
    "X_test, y_test = testset.drop('Adj Close', axis=1), testset['Adj Close']"
   ]
  },
  {
   "cell_type": "code",
   "execution_count": 9,
   "metadata": {},
   "outputs": [
    {
     "data": {
      "text/plain": [
       "Date\n",
       "2017-03-16    116.730003\n",
       "2014-06-02    119.699997\n",
       "2015-07-23    104.330002\n",
       "2018-10-23    116.389999\n",
       "2014-09-25    117.389999\n",
       "                 ...    \n",
       "2015-06-15    113.730003\n",
       "2016-12-22    107.589996\n",
       "2018-09-26    113.050003\n",
       "2014-05-05    126.220001\n",
       "2014-11-04    112.220001\n",
       "Name: Adj Close, Length: 1202, dtype: float64"
      ]
     },
     "execution_count": 9,
     "metadata": {},
     "output_type": "execute_result"
    }
   ],
   "source": [
    "y_train"
   ]
  },
  {
   "cell_type": "markdown",
   "metadata": {},
   "source": [
    "### R Carré ajusté"
   ]
  },
  {
   "cell_type": "code",
   "execution_count": 23,
   "metadata": {},
   "outputs": [],
   "source": [
    "def R2_Ajuste(r2,n,k):\n",
    "    \n",
    "    return r2-(k-1)/(n-k)*(1-r2)"
   ]
  },
  {
   "cell_type": "code",
   "execution_count": 12,
   "metadata": {},
   "outputs": [],
   "source": [
    "Performance = pd.DataFrame({'Model': [],\n",
    "                           'Details':[],\n",
    "                           'Racine Carrée ECM':[],\n",
    "                           'R2 (train)':[],\n",
    "                           'R2 Ajusté (train)':[],\n",
    "                           'R2 (test)':[],\n",
    "                           'R2 Ajusté (test)':[],\n",
    "                           '5-Fold Cross Validation':[],\n",
    "                           'Prix moyen de l\\'Or': []})"
   ]
  },
  {
   "cell_type": "code",
   "execution_count": 13,
   "metadata": {},
   "outputs": [
    {
     "data": {
      "text/html": [
       "<div>\n",
       "<style scoped>\n",
       "    .dataframe tbody tr th:only-of-type {\n",
       "        vertical-align: middle;\n",
       "    }\n",
       "\n",
       "    .dataframe tbody tr th {\n",
       "        vertical-align: top;\n",
       "    }\n",
       "\n",
       "    .dataframe thead th {\n",
       "        text-align: right;\n",
       "    }\n",
       "</style>\n",
       "<table border=\"1\" class=\"dataframe\">\n",
       "  <thead>\n",
       "    <tr style=\"text-align: right;\">\n",
       "      <th></th>\n",
       "      <th>Model</th>\n",
       "      <th>Details</th>\n",
       "      <th>Racine Carrée ECM</th>\n",
       "      <th>R2 (train)</th>\n",
       "      <th>R2 Ajusté (train)</th>\n",
       "      <th>R2 (test)</th>\n",
       "      <th>R2 Ajusté (test)</th>\n",
       "      <th>5-Fold Cross Validation</th>\n",
       "      <th>Prix moyen de l'Or</th>\n",
       "    </tr>\n",
       "  </thead>\n",
       "  <tbody>\n",
       "  </tbody>\n",
       "</table>\n",
       "</div>"
      ],
      "text/plain": [
       "Empty DataFrame\n",
       "Columns: [Model, Details, Racine Carrée ECM, R2 (train), R2 Ajusté (train), R2 (test), R2 Ajusté (test), 5-Fold Cross Validation, Prix moyen de l'Or]\n",
       "Index: []"
      ]
     },
     "execution_count": 13,
     "metadata": {},
     "output_type": "execute_result"
    }
   ],
   "source": [
    "Performance"
   ]
  },
  {
   "cell_type": "markdown",
   "metadata": {},
   "source": [
    "### Regression Linéaire Simple\n",
    "- L'objet de cette section est de voir l'impact d'une seule variable sur la cible (Regression simple)\n",
    "- Pour cette regression nous alons retenir la variable qui a la plus grande corrélation avec Cible\n",
    "$$F_{\\theta}(X)=\\theta_{0}+\\theta_{1}x$$"
   ]
  },
  {
   "cell_type": "code",
   "execution_count": 14,
   "metadata": {},
   "outputs": [
    {
     "data": {
      "text/plain": [
       "Close            1.000000\n",
       "Adj Close        1.000000\n",
       "High             0.999535\n",
       "Low              0.999532\n",
       "Open             0.998976\n",
       "GDX_Low          0.975561\n",
       "GDX_Close        0.975459\n",
       "GDX_High         0.975255\n",
       "GDX_Adj Close    0.974980\n",
       "GDX_Open         0.974824\n",
       "SF_Low           0.947842\n",
       "SF_Price         0.947420\n",
       "SF_Open          0.945557\n",
       "SF_High          0.945203\n",
       "EG_low           0.863917\n",
       "EG_open          0.862900\n",
       "EG_close         0.862770\n",
       "EG_high          0.861479\n",
       "EG_Ajclose       0.859850\n",
       "PLT_Price        0.775861\n",
       "PLT_High         0.775481\n",
       "PLT_Low          0.773993\n",
       "PLT_Open         0.773760\n",
       "OF_High          0.711334\n",
       "OF_Price         0.710693\n",
       "OF_Open          0.709096\n",
       "OF_Low           0.708266\n",
       "SF_Volume        0.706505\n",
       "USO_Adj Close    0.635675\n",
       "USO_Close        0.635675\n",
       "USO_High         0.635311\n",
       "USO_Open         0.635197\n",
       "USO_Low          0.634732\n",
       "OS_High          0.632001\n",
       "OS_Price         0.630817\n",
       "OS_Open          0.630046\n",
       "OS_Low           0.629083\n",
       "EU_high          0.582969\n",
       "EU_Price         0.581036\n",
       "EU_open          0.579036\n",
       "EU_low           0.577000\n",
       "Volume           0.246778\n",
       "SP_volume        0.241949\n",
       "RHO_PRICE        0.095782\n",
       "OS_Trend         0.059510\n",
       "OF_Trend         0.048205\n",
       "SF_Trend         0.028100\n",
       "PLD_Trend        0.026536\n",
       "EU_Trend         0.019913\n",
       "PLT_Trend        0.011355\n",
       "USDI_Trend      -0.016641\n",
       "USB_Trend       -0.025933\n",
       "EG_volume       -0.126586\n",
       "DJ_volume       -0.155526\n",
       "USDI_Volume     -0.205954\n",
       "PLD_Price       -0.213179\n",
       "PLD_Low         -0.214919\n",
       "PLD_Open        -0.216426\n",
       "PLD_High        -0.217490\n",
       "OF_Volume       -0.225436\n",
       "USB_Low         -0.417352\n",
       "USB_Open        -0.440822\n",
       "USB_Price       -0.441347\n",
       "USO_Volume      -0.456193\n",
       "USB_High        -0.464116\n",
       "GDX_Volume      -0.514616\n",
       "DJ_low          -0.588157\n",
       "DJ_Ajclose      -0.588411\n",
       "DJ_close        -0.588411\n",
       "DJ_high         -0.588778\n",
       "DJ_open         -0.588800\n",
       "SP_Ajclose      -0.666071\n",
       "SP_low          -0.683750\n",
       "SP_close        -0.684284\n",
       "SP_open         -0.684618\n",
       "SP_high         -0.684904\n",
       "USDI_High       -0.720023\n",
       "USDI_Open       -0.720140\n",
       "USDI_Price      -0.721569\n",
       "USDI_Low        -0.722078\n",
       "Name: Adj Close, dtype: float64"
      ]
     },
     "execution_count": 14,
     "metadata": {},
     "output_type": "execute_result"
    }
   ],
   "source": [
    "pd.set_option('display.max_rows', 80)\n",
    "(df.corr()['Adj Close']).sort_values(ascending=False)"
   ]
  },
  {
   "cell_type": "markdown",
   "metadata": {},
   "source": [
    "- Nous retenons la variables **Close et High** qui sont parfaitement corrélé avec la cible"
   ]
  },
  {
   "cell_type": "code",
   "execution_count": 16,
   "metadata": {},
   "outputs": [],
   "source": [
    "model = LinearRegression()"
   ]
  },
  {
   "cell_type": "markdown",
   "metadata": {},
   "source": [
    "#### 1. Adj Close et Close"
   ]
  },
  {
   "cell_type": "code",
   "execution_count": 18,
   "metadata": {},
   "outputs": [
    {
     "name": "stdout",
     "output_type": "stream",
     "text": [
      "Ordonnée à l'Origine: 0.0\n",
      "Pente: [1.]\n"
     ]
    },
    {
     "data": {
      "text/html": [
       "<div>\n",
       "<style scoped>\n",
       "    .dataframe tbody tr th:only-of-type {\n",
       "        vertical-align: middle;\n",
       "    }\n",
       "\n",
       "    .dataframe tbody tr th {\n",
       "        vertical-align: top;\n",
       "    }\n",
       "\n",
       "    .dataframe thead th {\n",
       "        text-align: right;\n",
       "    }\n",
       "</style>\n",
       "<table border=\"1\" class=\"dataframe\">\n",
       "  <thead>\n",
       "    <tr style=\"text-align: right;\">\n",
       "      <th></th>\n",
       "      <th>Model</th>\n",
       "      <th>Details</th>\n",
       "      <th>Racine Carrée ECM</th>\n",
       "      <th>R2 (train)</th>\n",
       "      <th>R2 Ajusté (train)</th>\n",
       "      <th>R2 (test)</th>\n",
       "      <th>R2 Ajusté (test)</th>\n",
       "      <th>5-Fold Cross Validation</th>\n",
       "      <th>Prix moyen de l'Or</th>\n",
       "    </tr>\n",
       "  </thead>\n",
       "  <tbody>\n",
       "    <tr>\n",
       "      <th>0</th>\n",
       "      <td>Regression Linéaire simple Avec Close</td>\n",
       "      <td>-</td>\n",
       "      <td>0.0</td>\n",
       "      <td>1.0</td>\n",
       "      <td>-</td>\n",
       "      <td>1.0</td>\n",
       "      <td>-</td>\n",
       "      <td>1.0</td>\n",
       "      <td>127.524903</td>\n",
       "    </tr>\n",
       "  </tbody>\n",
       "</table>\n",
       "</div>"
      ],
      "text/plain": [
       "                                    Model Details  Racine Carrée ECM  \\\n",
       "0  Regression Linéaire simple Avec Close        -                0.0   \n",
       "\n",
       "   R2 (train) R2 Ajusté (train)  R2 (test) R2 Ajusté (test)  \\\n",
       "0         1.0                 -        1.0                -   \n",
       "\n",
       "   5-Fold Cross Validation  Prix moyen de l'Or  \n",
       "0                      1.0          127.524903  "
      ]
     },
     "execution_count": 18,
     "metadata": {},
     "output_type": "execute_result"
    }
   ],
   "source": [
    "X1_train = np.array(X_train['Close'], dtype=pd.Series).reshape(X_train.shape[0], 1)\n",
    "y1_train = np.array(y_train, dtype=pd.Series)\n",
    "\n",
    "X1_test = np.array(X_test['Close'], dtype=pd.Series).reshape(X_test.shape[0], 1)\n",
    "y1_test = np.array(y_test, dtype=pd.Series)\n",
    "\n",
    "model.fit(X1_train, y1_train)\n",
    "y_pred = model.predict(X1_test)\n",
    "\n",
    "RECM = np.sqrt(metrics.mean_squared_error(y1_test,y_pred))\n",
    "R2_train = model.score(X1_train, y1_train)\n",
    "R2_test = model.score(X1_test, y1_test)\n",
    "cv = cross_val_score(model,trainset[['Close']],trainset['Adj Close'],cv=5).mean()\n",
    "\n",
    "prix = y1_test.mean()\n",
    "print('Ordonnée à l\\'Origine: {}'.format(model.intercept_))\n",
    "print('Pente: {}'.format(model.coef_))\n",
    "\n",
    "r = Performance.shape[0]\n",
    "Performance.loc[r] = ['Regression Linéaire simple Avec Close ','-',RECM, R2_train, '-',R2_test,'-',cv, prix]\n",
    "Performance"
   ]
  },
  {
   "cell_type": "code",
   "execution_count": 19,
   "metadata": {},
   "outputs": [
    {
     "data": {
      "image/png": "[encoded data removed]",
      "text/plain": [
       "<Figure size 468x360 with 1 Axes>"
      ]
     },
     "metadata": {
      "needs_background": "light"
     },
     "output_type": "display_data"
    }
   ],
   "source": [
    "plt.figure(figsize=(6.5,5))\n",
    "plt.scatter(X1_test,y1_test,color='darkgreen',label=\"Donnée\", alpha=.1)\n",
    "plt.plot(X1_test,model.predict(X1_test),color=\"red\",label=\"Prediction\")\n",
    "plt.xlabel(\"Prix à la fermeture\", fontsize=15)\n",
    "plt.ylabel(\"Price de L'Or\", fontsize=15)\n",
    "plt.xticks(fontsize=13)\n",
    "plt.yticks(fontsize=13)\n",
    "plt.legend()\n",
    "\n",
    "plt.gca().spines['right'].set_visible(False)\n",
    "plt.gca().spines['top'].set_visible(False)"
   ]
  },
  {
   "cell_type": "markdown",
   "metadata": {},
   "source": [
    "- On constate que le modèle fait une erreur de 0%. Le modèle passe effectivement par tous les points"
   ]
  },
  {
   "cell_type": "markdown",
   "metadata": {},
   "source": [
    "#### 2. Adj Close et High"
   ]
  },
  {
   "cell_type": "code",
   "execution_count": 20,
   "metadata": {},
   "outputs": [
    {
     "name": "stdout",
     "output_type": "stream",
     "text": [
      "Ordonnée à l'Origine: 0.0\n",
      "Pente: [1.]\n"
     ]
    },
    {
     "data": {
      "text/html": [
       "<div>\n",
       "<style scoped>\n",
       "    .dataframe tbody tr th:only-of-type {\n",
       "        vertical-align: middle;\n",
       "    }\n",
       "\n",
       "    .dataframe tbody tr th {\n",
       "        vertical-align: top;\n",
       "    }\n",
       "\n",
       "    .dataframe thead th {\n",
       "        text-align: right;\n",
       "    }\n",
       "</style>\n",
       "<table border=\"1\" class=\"dataframe\">\n",
       "  <thead>\n",
       "    <tr style=\"text-align: right;\">\n",
       "      <th></th>\n",
       "      <th>Model</th>\n",
       "      <th>Details</th>\n",
       "      <th>Racine Carrée ECM</th>\n",
       "      <th>R2 (train)</th>\n",
       "      <th>R2 Ajusté (train)</th>\n",
       "      <th>R2 (test)</th>\n",
       "      <th>R2 Ajusté (test)</th>\n",
       "      <th>5-Fold Cross Validation</th>\n",
       "      <th>Prix moyen de l'Or</th>\n",
       "    </tr>\n",
       "  </thead>\n",
       "  <tbody>\n",
       "    <tr>\n",
       "      <th>0</th>\n",
       "      <td>Regression Linéaire simple Avec Close</td>\n",
       "      <td>-</td>\n",
       "      <td>0.0</td>\n",
       "      <td>1.000000</td>\n",
       "      <td>-</td>\n",
       "      <td>1.000000</td>\n",
       "      <td>-</td>\n",
       "      <td>1.000000</td>\n",
       "      <td>127.524903</td>\n",
       "    </tr>\n",
       "    <tr>\n",
       "      <th>1</th>\n",
       "      <td>Regression Linéaire simple Avec High</td>\n",
       "      <td>-</td>\n",
       "      <td>0.0</td>\n",
       "      <td>0.998124</td>\n",
       "      <td>-</td>\n",
       "      <td>0.998065</td>\n",
       "      <td>-</td>\n",
       "      <td>0.999052</td>\n",
       "      <td>127.524903</td>\n",
       "    </tr>\n",
       "  </tbody>\n",
       "</table>\n",
       "</div>"
      ],
      "text/plain": [
       "                                    Model Details  Racine Carrée ECM  \\\n",
       "0  Regression Linéaire simple Avec Close        -                0.0   \n",
       "1   Regression Linéaire simple Avec High        -                0.0   \n",
       "\n",
       "   R2 (train) R2 Ajusté (train)  R2 (test) R2 Ajusté (test)  \\\n",
       "0    1.000000                 -   1.000000                -   \n",
       "1    0.998124                 -   0.998065                -   \n",
       "\n",
       "   5-Fold Cross Validation  Prix moyen de l'Or  \n",
       "0                 1.000000          127.524903  \n",
       "1                 0.999052          127.524903  "
      ]
     },
     "execution_count": 20,
     "metadata": {},
     "output_type": "execute_result"
    }
   ],
   "source": [
    "X1_train = np.array(X_train['High'], dtype=pd.Series).reshape(X_train.shape[0], 1)\n",
    "y1_train = np.array(y_train, dtype=pd.Series)\n",
    "\n",
    "X1_test = np.array(X_test['High'], dtype=pd.Series).reshape(X_test.shape[0], 1)\n",
    "y1_test = np.array(y_test, dtype=pd.Series)\n",
    "\n",
    "RECM = np.sqrt(metrics.mean_squared_error(y1_test,y_pred))\n",
    "R2_train = model.score(X1_train, y1_train)\n",
    "R2_test = model.score(X1_test, y1_test)\n",
    "cv = cross_val_score(model,trainset[['High']],trainset['Adj Close'],cv=5).mean()\n",
    "\n",
    "prix = y1_test.mean()\n",
    "print('Ordonnée à l\\'Origine: {}'.format(model.intercept_))\n",
    "print('Pente: {}'.format(model.coef_))\n",
    "\n",
    "r = Performance.shape[0]\n",
    "Performance.loc[r] = ['Regression Linéaire simple Avec High ','-',RECM, R2_train, '-',R2_test,'-',cv, prix]\n",
    "Performance"
   ]
  },
  {
   "cell_type": "markdown",
   "metadata": {},
   "source": [
    "### Adj Close et DJ_open"
   ]
  },
  {
   "cell_type": "code",
   "execution_count": 21,
   "metadata": {},
   "outputs": [
    {
     "name": "stdout",
     "output_type": "stream",
     "text": [
      "Ordonnée à l'Origine: 0.0\n",
      "Pente: [1.]\n"
     ]
    },
    {
     "data": {
      "text/html": [
       "<div>\n",
       "<style scoped>\n",
       "    .dataframe tbody tr th:only-of-type {\n",
       "        vertical-align: middle;\n",
       "    }\n",
       "\n",
       "    .dataframe tbody tr th {\n",
       "        vertical-align: top;\n",
       "    }\n",
       "\n",
       "    .dataframe thead th {\n",
       "        text-align: right;\n",
       "    }\n",
       "</style>\n",
       "<table border=\"1\" class=\"dataframe\">\n",
       "  <thead>\n",
       "    <tr style=\"text-align: right;\">\n",
       "      <th></th>\n",
       "      <th>Model</th>\n",
       "      <th>Details</th>\n",
       "      <th>Racine Carrée ECM</th>\n",
       "      <th>R2 (train)</th>\n",
       "      <th>R2 Ajusté (train)</th>\n",
       "      <th>R2 (test)</th>\n",
       "      <th>R2 Ajusté (test)</th>\n",
       "      <th>5-Fold Cross Validation</th>\n",
       "      <th>Prix moyen de l'Or</th>\n",
       "    </tr>\n",
       "  </thead>\n",
       "  <tbody>\n",
       "    <tr>\n",
       "      <th>0</th>\n",
       "      <td>Regression Linéaire simple Avec Close</td>\n",
       "      <td>-</td>\n",
       "      <td>0.0</td>\n",
       "      <td>1.000000e+00</td>\n",
       "      <td>-</td>\n",
       "      <td>1.000000e+00</td>\n",
       "      <td>-</td>\n",
       "      <td>1.000000</td>\n",
       "      <td>127.524903</td>\n",
       "    </tr>\n",
       "    <tr>\n",
       "      <th>1</th>\n",
       "      <td>Regression Linéaire simple Avec High</td>\n",
       "      <td>-</td>\n",
       "      <td>0.0</td>\n",
       "      <td>9.981243e-01</td>\n",
       "      <td>-</td>\n",
       "      <td>9.980646e-01</td>\n",
       "      <td>-</td>\n",
       "      <td>0.999052</td>\n",
       "      <td>127.524903</td>\n",
       "    </tr>\n",
       "    <tr>\n",
       "      <th>2</th>\n",
       "      <td>Regression Linéaire simple Avec DJ_open</td>\n",
       "      <td>-</td>\n",
       "      <td>0.0</td>\n",
       "      <td>-1.133616e+06</td>\n",
       "      <td>-</td>\n",
       "      <td>-1.050653e+06</td>\n",
       "      <td>-</td>\n",
       "      <td>0.348782</td>\n",
       "      <td>127.524903</td>\n",
       "    </tr>\n",
       "  </tbody>\n",
       "</table>\n",
       "</div>"
      ],
      "text/plain": [
       "                                     Model Details  Racine Carrée ECM  \\\n",
       "0   Regression Linéaire simple Avec Close        -                0.0   \n",
       "1    Regression Linéaire simple Avec High        -                0.0   \n",
       "2  Regression Linéaire simple Avec DJ_open       -                0.0   \n",
       "\n",
       "     R2 (train) R2 Ajusté (train)     R2 (test) R2 Ajusté (test)  \\\n",
       "0  1.000000e+00                 -  1.000000e+00                -   \n",
       "1  9.981243e-01                 -  9.980646e-01                -   \n",
       "2 -1.133616e+06                 - -1.050653e+06                -   \n",
       "\n",
       "   5-Fold Cross Validation  Prix moyen de l'Or  \n",
       "0                 1.000000          127.524903  \n",
       "1                 0.999052          127.524903  \n",
       "2                 0.348782          127.524903  "
      ]
     },
     "execution_count": 21,
     "metadata": {},
     "output_type": "execute_result"
    }
   ],
   "source": [
    "X1_train = np.array(X_train['DJ_open'], dtype=pd.Series).reshape(X_train.shape[0], 1)\n",
    "y1_train = np.array(y_train, dtype=pd.Series)\n",
    "\n",
    "X1_test = np.array(X_test['DJ_open'], dtype=pd.Series).reshape(X_test.shape[0], 1)\n",
    "y1_test = np.array(y_test, dtype=pd.Series)\n",
    "\n",
    "RECM = np.sqrt(metrics.mean_squared_error(y1_test,y_pred))\n",
    "R2_train = model.score(X1_train, y1_train)\n",
    "R2_test = model.score(X1_test, y1_test)\n",
    "cv = cross_val_score(model,trainset[['DJ_open']],trainset['Adj Close'],cv=5).mean()\n",
    "\n",
    "prix = y1_test.mean()\n",
    "print('Ordonnée à l\\'Origine: {}'.format(model.intercept_))\n",
    "print('Pente: {}'.format(model.coef_))\n",
    "\n",
    "r = Performance.shape[0]\n",
    "Performance.loc[r] = ['Regression Linéaire simple Avec DJ_open','-',RECM, R2_train, '-',R2_test,'-',cv, prix]\n",
    "Performance"
   ]
  },
  {
   "cell_type": "markdown",
   "metadata": {},
   "source": [
    "### Regression Linéaire Multiple\n",
    "- L'objet de cette section est de voir l'impact de toutes les variable sur la cible (Regression simple)2\n",
    "\n",
    "$$F_{\\theta}(X)=\\theta_{0}+\\theta_{1}X1+\\theta_{2}X2+....+\\theta_{1}Xn$$"
   ]
  },
  {
   "cell_type": "code",
   "execution_count": 22,
   "metadata": {},
   "outputs": [
    {
     "data": {
      "text/html": [
       "<div>\n",
       "<style scoped>\n",
       "    .dataframe tbody tr th:only-of-type {\n",
       "        vertical-align: middle;\n",
       "    }\n",
       "\n",
       "    .dataframe tbody tr th {\n",
       "        vertical-align: top;\n",
       "    }\n",
       "\n",
       "    .dataframe thead th {\n",
       "        text-align: right;\n",
       "    }\n",
       "</style>\n",
       "<table border=\"1\" class=\"dataframe\">\n",
       "  <thead>\n",
       "    <tr style=\"text-align: right;\">\n",
       "      <th></th>\n",
       "      <th>Model</th>\n",
       "      <th>Details</th>\n",
       "      <th>Racine Carrée ECM</th>\n",
       "      <th>R2 (train)</th>\n",
       "      <th>R2 Ajusté (train)</th>\n",
       "      <th>R2 (test)</th>\n",
       "      <th>R2 Ajusté (test)</th>\n",
       "      <th>5-Fold Cross Validation</th>\n",
       "      <th>Prix moyen de l'Or</th>\n",
       "    </tr>\n",
       "  </thead>\n",
       "  <tbody>\n",
       "    <tr>\n",
       "      <th>0</th>\n",
       "      <td>Regression Linéaire simple Avec Close</td>\n",
       "      <td>-</td>\n",
       "      <td>0.0</td>\n",
       "      <td>1.000000e+00</td>\n",
       "      <td>-</td>\n",
       "      <td>1.000000e+00</td>\n",
       "      <td>-</td>\n",
       "      <td>1.000000</td>\n",
       "      <td>127.524903</td>\n",
       "    </tr>\n",
       "    <tr>\n",
       "      <th>1</th>\n",
       "      <td>Regression Linéaire simple Avec High</td>\n",
       "      <td>-</td>\n",
       "      <td>0.0</td>\n",
       "      <td>9.981243e-01</td>\n",
       "      <td>-</td>\n",
       "      <td>9.980646e-01</td>\n",
       "      <td>-</td>\n",
       "      <td>0.999052</td>\n",
       "      <td>127.524903</td>\n",
       "    </tr>\n",
       "    <tr>\n",
       "      <th>2</th>\n",
       "      <td>Regression Linéaire simple Avec DJ_open</td>\n",
       "      <td>-</td>\n",
       "      <td>0.0</td>\n",
       "      <td>-1.133616e+06</td>\n",
       "      <td>-</td>\n",
       "      <td>-1.050653e+06</td>\n",
       "      <td>-</td>\n",
       "      <td>0.348782</td>\n",
       "      <td>127.524903</td>\n",
       "    </tr>\n",
       "    <tr>\n",
       "      <th>3</th>\n",
       "      <td>Regression Linéaire Multiple</td>\n",
       "      <td>Toutes les Variables</td>\n",
       "      <td>0.0</td>\n",
       "      <td>1.000000e+00</td>\n",
       "      <td>1.0</td>\n",
       "      <td>1.000000e+00</td>\n",
       "      <td>1.0</td>\n",
       "      <td>1.000000</td>\n",
       "      <td>127.524903</td>\n",
       "    </tr>\n",
       "  </tbody>\n",
       "</table>\n",
       "</div>"
      ],
      "text/plain": [
       "                                     Model               Details  \\\n",
       "0   Regression Linéaire simple Avec Close                      -   \n",
       "1    Regression Linéaire simple Avec High                      -   \n",
       "2  Regression Linéaire simple Avec DJ_open                     -   \n",
       "3             Regression Linéaire Multiple  Toutes les Variables   \n",
       "\n",
       "   Racine Carrée ECM    R2 (train) R2 Ajusté (train)     R2 (test)  \\\n",
       "0                0.0  1.000000e+00                 -  1.000000e+00   \n",
       "1                0.0  9.981243e-01                 -  9.980646e-01   \n",
       "2                0.0 -1.133616e+06                 - -1.050653e+06   \n",
       "3                0.0  1.000000e+00               1.0  1.000000e+00   \n",
       "\n",
       "  R2 Ajusté (test)  5-Fold Cross Validation  Prix moyen de l'Or  \n",
       "0                -                 1.000000          127.524903  \n",
       "1                -                 0.999052          127.524903  \n",
       "2                -                 0.348782          127.524903  \n",
       "3              1.0                 1.000000          127.524903  "
      ]
     },
     "execution_count": 22,
     "metadata": {},
     "output_type": "execute_result"
    }
   ],
   "source": [
    "model.fit(X_train, y_train)\n",
    "\n",
    "RECM = np.sqrt(metrics.mean_squared_error(y_test,y_pred))\n",
    "R2_train = model.score(X_train, y1_train)\n",
    "R2_test = model.score(X_test, y1_test)\n",
    "cv = cross_val_score(model,X_train,y_train,cv=5).mean()\n",
    "\n",
    "prix = y_test.mean()\n",
    "R_ajuste = R2_Ajuste(R2_train, trainset.shape[0], X_train.shape[1])\n",
    "Rtest_ajuste = R2_Ajuste(R2_test, testset.shape[0], X_test.shape[1])\n",
    "r = Performance.shape[0]\n",
    "Performance.loc[r] = ['Regression Linéaire Multiple','Toutes les Variables',RECM, R2_train, R_ajuste ,R2_test, Rtest_ajuste,cv, prix]\n",
    "Performance"
   ]
  },
  {
   "cell_type": "markdown",
   "metadata": {},
   "source": [
    "#### Conclusion\n",
    "\n",
    "- **Au terme de cette première approche de modélisation et de la matrice de corrélation (Analyse exploratoire Partie 1) entre toutes nos variables, nous retenons que plusieurs variables sont dépendantes. Ce faisant, une selection de variables sera très importante lors du prétraitement (OpenClassroom)**\n",
    "\n",
    "- [Plus d'info](https://openclassrooms.com/fr/courses/4444646-entrainez-un-modele-predictif-lineaire/4444653-trouvez-une-combinaison-lineaire-de-variables-qui-approxime-leurs-etiquettes#/id/r-4521401)"
   ]
  },
  {
   "cell_type": "markdown",
   "metadata": {},
   "source": [
    "# Preprocessing\n",
    "- Selection de Variable;\n",
    "- Normalisation\n",
    "- Traitement de Valeur Aberrante"
   ]
  },
  {
   "cell_type": "code",
   "execution_count": 8,
   "metadata": {},
   "outputs": [],
   "source": [
    "ACP = PCA(n_components=2)"
   ]
  },
  {
   "cell_type": "code",
   "execution_count": 13,
   "metadata": {},
   "outputs": [
    {
     "data": {
      "text/plain": [
       "(1202, 2)"
      ]
     },
     "execution_count": 13,
     "metadata": {},
     "output_type": "execute_result"
    }
   ],
   "source": [
    "ACP.fit_transform(X_train).shape"
   ]
  },
  {
   "cell_type": "code",
   "execution_count": 12,
   "metadata": {},
   "outputs": [
    {
     "data": {
      "text/html": [
       "<div>\n",
       "<style scoped>\n",
       "    .dataframe tbody tr th:only-of-type {\n",
       "        vertical-align: middle;\n",
       "    }\n",
       "\n",
       "    .dataframe tbody tr th {\n",
       "        vertical-align: top;\n",
       "    }\n",
       "\n",
       "    .dataframe thead th {\n",
       "        text-align: right;\n",
       "    }\n",
       "</style>\n",
       "<table border=\"1\" class=\"dataframe\">\n",
       "  <thead>\n",
       "    <tr style=\"text-align: right;\">\n",
       "      <th></th>\n",
       "      <th>Open</th>\n",
       "      <th>High</th>\n",
       "      <th>Low</th>\n",
       "      <th>Close</th>\n",
       "      <th>Volume</th>\n",
       "      <th>SP_open</th>\n",
       "      <th>SP_high</th>\n",
       "      <th>SP_low</th>\n",
       "      <th>SP_close</th>\n",
       "      <th>SP_Ajclose</th>\n",
       "      <th>...</th>\n",
       "      <th>GDX_Low</th>\n",
       "      <th>GDX_Close</th>\n",
       "      <th>GDX_Adj Close</th>\n",
       "      <th>GDX_Volume</th>\n",
       "      <th>USO_Open</th>\n",
       "      <th>USO_High</th>\n",
       "      <th>USO_Low</th>\n",
       "      <th>USO_Close</th>\n",
       "      <th>USO_Adj Close</th>\n",
       "      <th>USO_Volume</th>\n",
       "    </tr>\n",
       "    <tr>\n",
       "      <th>Date</th>\n",
       "      <th></th>\n",
       "      <th></th>\n",
       "      <th></th>\n",
       "      <th></th>\n",
       "      <th></th>\n",
       "      <th></th>\n",
       "      <th></th>\n",
       "      <th></th>\n",
       "      <th></th>\n",
       "      <th></th>\n",
       "      <th></th>\n",
       "      <th></th>\n",
       "      <th></th>\n",
       "      <th></th>\n",
       "      <th></th>\n",
       "      <th></th>\n",
       "      <th></th>\n",
       "      <th></th>\n",
       "      <th></th>\n",
       "      <th></th>\n",
       "      <th></th>\n",
       "    </tr>\n",
       "  </thead>\n",
       "  <tbody>\n",
       "    <tr>\n",
       "      <th>2017-03-16</th>\n",
       "      <td>117.269997</td>\n",
       "      <td>117.290001</td>\n",
       "      <td>116.690002</td>\n",
       "      <td>116.730003</td>\n",
       "      <td>9322000</td>\n",
       "      <td>239.110001</td>\n",
       "      <td>239.199997</td>\n",
       "      <td>238.100006</td>\n",
       "      <td>238.479996</td>\n",
       "      <td>229.571396</td>\n",
       "      <td>...</td>\n",
       "      <td>22.690001</td>\n",
       "      <td>22.770000</td>\n",
       "      <td>22.468874</td>\n",
       "      <td>61512900</td>\n",
       "      <td>10.390000</td>\n",
       "      <td>10.400000</td>\n",
       "      <td>10.290000</td>\n",
       "      <td>10.360000</td>\n",
       "      <td>10.360000</td>\n",
       "      <td>22429000</td>\n",
       "    </tr>\n",
       "    <tr>\n",
       "      <th>2014-06-02</th>\n",
       "      <td>119.930000</td>\n",
       "      <td>120.459999</td>\n",
       "      <td>119.610001</td>\n",
       "      <td>119.699997</td>\n",
       "      <td>5916100</td>\n",
       "      <td>192.949997</td>\n",
       "      <td>192.990005</td>\n",
       "      <td>191.970001</td>\n",
       "      <td>192.899994</td>\n",
       "      <td>175.472046</td>\n",
       "      <td>...</td>\n",
       "      <td>22.150000</td>\n",
       "      <td>22.290001</td>\n",
       "      <td>21.603308</td>\n",
       "      <td>21523400</td>\n",
       "      <td>37.520000</td>\n",
       "      <td>37.570000</td>\n",
       "      <td>37.380001</td>\n",
       "      <td>37.529999</td>\n",
       "      <td>37.529999</td>\n",
       "      <td>3111500</td>\n",
       "    </tr>\n",
       "    <tr>\n",
       "      <th>2015-07-23</th>\n",
       "      <td>104.980003</td>\n",
       "      <td>105.300003</td>\n",
       "      <td>104.199997</td>\n",
       "      <td>104.330002</td>\n",
       "      <td>5779300</td>\n",
       "      <td>211.529999</td>\n",
       "      <td>211.649994</td>\n",
       "      <td>209.750000</td>\n",
       "      <td>210.139999</td>\n",
       "      <td>195.847366</td>\n",
       "      <td>...</td>\n",
       "      <td>13.510000</td>\n",
       "      <td>13.620000</td>\n",
       "      <td>13.287169</td>\n",
       "      <td>69592000</td>\n",
       "      <td>16.440001</td>\n",
       "      <td>16.490000</td>\n",
       "      <td>16.020000</td>\n",
       "      <td>16.139999</td>\n",
       "      <td>16.139999</td>\n",
       "      <td>22692200</td>\n",
       "    </tr>\n",
       "    <tr>\n",
       "      <th>2018-10-23</th>\n",
       "      <td>117.160004</td>\n",
       "      <td>117.250000</td>\n",
       "      <td>116.330002</td>\n",
       "      <td>116.389999</td>\n",
       "      <td>12704200</td>\n",
       "      <td>270.950012</td>\n",
       "      <td>274.869995</td>\n",
       "      <td>268.609985</td>\n",
       "      <td>273.609985</td>\n",
       "      <td>272.021484</td>\n",
       "      <td>...</td>\n",
       "      <td>19.930000</td>\n",
       "      <td>20.100000</td>\n",
       "      <td>19.994211</td>\n",
       "      <td>51504500</td>\n",
       "      <td>14.360000</td>\n",
       "      <td>14.390000</td>\n",
       "      <td>13.930000</td>\n",
       "      <td>14.040000</td>\n",
       "      <td>14.040000</td>\n",
       "      <td>46733900</td>\n",
       "    </tr>\n",
       "    <tr>\n",
       "      <th>2014-09-25</th>\n",
       "      <td>116.300003</td>\n",
       "      <td>117.760002</td>\n",
       "      <td>116.199997</td>\n",
       "      <td>117.389999</td>\n",
       "      <td>7631700</td>\n",
       "      <td>199.039993</td>\n",
       "      <td>199.050003</td>\n",
       "      <td>196.270004</td>\n",
       "      <td>196.339996</td>\n",
       "      <td>180.295761</td>\n",
       "      <td>...</td>\n",
       "      <td>21.850000</td>\n",
       "      <td>22.350000</td>\n",
       "      <td>21.661459</td>\n",
       "      <td>35894800</td>\n",
       "      <td>35.080002</td>\n",
       "      <td>35.130001</td>\n",
       "      <td>34.650002</td>\n",
       "      <td>34.830002</td>\n",
       "      <td>34.830002</td>\n",
       "      <td>4266400</td>\n",
       "    </tr>\n",
       "    <tr>\n",
       "      <th>...</th>\n",
       "      <td>...</td>\n",
       "      <td>...</td>\n",
       "      <td>...</td>\n",
       "      <td>...</td>\n",
       "      <td>...</td>\n",
       "      <td>...</td>\n",
       "      <td>...</td>\n",
       "      <td>...</td>\n",
       "      <td>...</td>\n",
       "      <td>...</td>\n",
       "      <td>...</td>\n",
       "      <td>...</td>\n",
       "      <td>...</td>\n",
       "      <td>...</td>\n",
       "      <td>...</td>\n",
       "      <td>...</td>\n",
       "      <td>...</td>\n",
       "      <td>...</td>\n",
       "      <td>...</td>\n",
       "      <td>...</td>\n",
       "      <td>...</td>\n",
       "    </tr>\n",
       "    <tr>\n",
       "      <th>2015-06-15</th>\n",
       "      <td>113.279999</td>\n",
       "      <td>114.150002</td>\n",
       "      <td>113.209999</td>\n",
       "      <td>113.730003</td>\n",
       "      <td>5054000</td>\n",
       "      <td>208.639999</td>\n",
       "      <td>209.449997</td>\n",
       "      <td>207.789993</td>\n",
       "      <td>209.100006</td>\n",
       "      <td>193.934418</td>\n",
       "      <td>...</td>\n",
       "      <td>18.420000</td>\n",
       "      <td>18.590000</td>\n",
       "      <td>18.135717</td>\n",
       "      <td>28170400</td>\n",
       "      <td>19.950001</td>\n",
       "      <td>20.200001</td>\n",
       "      <td>19.940001</td>\n",
       "      <td>20.150000</td>\n",
       "      <td>20.150000</td>\n",
       "      <td>10051700</td>\n",
       "    </tr>\n",
       "    <tr>\n",
       "      <th>2016-12-22</th>\n",
       "      <td>107.680000</td>\n",
       "      <td>108.099998</td>\n",
       "      <td>107.489998</td>\n",
       "      <td>107.589996</td>\n",
       "      <td>4942800</td>\n",
       "      <td>225.600006</td>\n",
       "      <td>225.740005</td>\n",
       "      <td>224.919998</td>\n",
       "      <td>225.380005</td>\n",
       "      <td>216.960770</td>\n",
       "      <td>...</td>\n",
       "      <td>19.000000</td>\n",
       "      <td>19.070000</td>\n",
       "      <td>18.817804</td>\n",
       "      <td>59725500</td>\n",
       "      <td>11.500000</td>\n",
       "      <td>11.590000</td>\n",
       "      <td>11.460000</td>\n",
       "      <td>11.460000</td>\n",
       "      <td>11.460000</td>\n",
       "      <td>18279200</td>\n",
       "    </tr>\n",
       "    <tr>\n",
       "      <th>2018-09-26</th>\n",
       "      <td>113.110001</td>\n",
       "      <td>113.599998</td>\n",
       "      <td>112.660004</td>\n",
       "      <td>113.050003</td>\n",
       "      <td>8297300</td>\n",
       "      <td>290.910004</td>\n",
       "      <td>292.239990</td>\n",
       "      <td>289.410004</td>\n",
       "      <td>289.880005</td>\n",
       "      <td>288.197052</td>\n",
       "      <td>...</td>\n",
       "      <td>18.389999</td>\n",
       "      <td>18.420000</td>\n",
       "      <td>18.323053</td>\n",
       "      <td>78326300</td>\n",
       "      <td>15.170000</td>\n",
       "      <td>15.240000</td>\n",
       "      <td>15.090000</td>\n",
       "      <td>15.110000</td>\n",
       "      <td>15.110000</td>\n",
       "      <td>11065200</td>\n",
       "    </tr>\n",
       "    <tr>\n",
       "      <th>2014-05-05</th>\n",
       "      <td>126.470001</td>\n",
       "      <td>126.629997</td>\n",
       "      <td>126.000000</td>\n",
       "      <td>126.220001</td>\n",
       "      <td>5196500</td>\n",
       "      <td>187.139999</td>\n",
       "      <td>188.550003</td>\n",
       "      <td>186.619995</td>\n",
       "      <td>188.419998</td>\n",
       "      <td>171.396774</td>\n",
       "      <td>...</td>\n",
       "      <td>24.290001</td>\n",
       "      <td>24.410000</td>\n",
       "      <td>23.657995</td>\n",
       "      <td>13954400</td>\n",
       "      <td>36.259998</td>\n",
       "      <td>36.259998</td>\n",
       "      <td>35.959999</td>\n",
       "      <td>36.139999</td>\n",
       "      <td>36.139999</td>\n",
       "      <td>2344000</td>\n",
       "    </tr>\n",
       "    <tr>\n",
       "      <th>2014-11-04</th>\n",
       "      <td>112.120003</td>\n",
       "      <td>112.709999</td>\n",
       "      <td>112.080002</td>\n",
       "      <td>112.220001</td>\n",
       "      <td>6430100</td>\n",
       "      <td>201.229996</td>\n",
       "      <td>201.600006</td>\n",
       "      <td>200.059998</td>\n",
       "      <td>201.070007</td>\n",
       "      <td>184.639297</td>\n",
       "      <td>...</td>\n",
       "      <td>17.129999</td>\n",
       "      <td>17.209999</td>\n",
       "      <td>16.679804</td>\n",
       "      <td>67537600</td>\n",
       "      <td>29.309999</td>\n",
       "      <td>29.370001</td>\n",
       "      <td>28.889999</td>\n",
       "      <td>29.299999</td>\n",
       "      <td>29.299999</td>\n",
       "      <td>12654700</td>\n",
       "    </tr>\n",
       "  </tbody>\n",
       "</table>\n",
       "<p>1202 rows × 79 columns</p>\n",
       "</div>"
      ],
      "text/plain": [
       "                  Open        High         Low       Close    Volume  \\\n",
       "Date                                                                   \n",
       "2017-03-16  117.269997  117.290001  116.690002  116.730003   9322000   \n",
       "2014-06-02  119.930000  120.459999  119.610001  119.699997   5916100   \n",
       "2015-07-23  104.980003  105.300003  104.199997  104.330002   5779300   \n",
       "2018-10-23  117.160004  117.250000  116.330002  116.389999  12704200   \n",
       "2014-09-25  116.300003  117.760002  116.199997  117.389999   7631700   \n",
       "...                ...         ...         ...         ...       ...   \n",
       "2015-06-15  113.279999  114.150002  113.209999  113.730003   5054000   \n",
       "2016-12-22  107.680000  108.099998  107.489998  107.589996   4942800   \n",
       "2018-09-26  113.110001  113.599998  112.660004  113.050003   8297300   \n",
       "2014-05-05  126.470001  126.629997  126.000000  126.220001   5196500   \n",
       "2014-11-04  112.120003  112.709999  112.080002  112.220001   6430100   \n",
       "\n",
       "               SP_open     SP_high      SP_low    SP_close  SP_Ajclose  ...  \\\n",
       "Date                                                                    ...   \n",
       "2017-03-16  239.110001  239.199997  238.100006  238.479996  229.571396  ...   \n",
       "2014-06-02  192.949997  192.990005  191.970001  192.899994  175.472046  ...   \n",
       "2015-07-23  211.529999  211.649994  209.750000  210.139999  195.847366  ...   \n",
       "2018-10-23  270.950012  274.869995  268.609985  273.609985  272.021484  ...   \n",
       "2014-09-25  199.039993  199.050003  196.270004  196.339996  180.295761  ...   \n",
       "...                ...         ...         ...         ...         ...  ...   \n",
       "2015-06-15  208.639999  209.449997  207.789993  209.100006  193.934418  ...   \n",
       "2016-12-22  225.600006  225.740005  224.919998  225.380005  216.960770  ...   \n",
       "2018-09-26  290.910004  292.239990  289.410004  289.880005  288.197052  ...   \n",
       "2014-05-05  187.139999  188.550003  186.619995  188.419998  171.396774  ...   \n",
       "2014-11-04  201.229996  201.600006  200.059998  201.070007  184.639297  ...   \n",
       "\n",
       "              GDX_Low  GDX_Close  GDX_Adj Close  GDX_Volume   USO_Open  \\\n",
       "Date                                                                     \n",
       "2017-03-16  22.690001  22.770000      22.468874    61512900  10.390000   \n",
       "2014-06-02  22.150000  22.290001      21.603308    21523400  37.520000   \n",
       "2015-07-23  13.510000  13.620000      13.287169    69592000  16.440001   \n",
       "2018-10-23  19.930000  20.100000      19.994211    51504500  14.360000   \n",
       "2014-09-25  21.850000  22.350000      21.661459    35894800  35.080002   \n",
       "...               ...        ...            ...         ...        ...   \n",
       "2015-06-15  18.420000  18.590000      18.135717    28170400  19.950001   \n",
       "2016-12-22  19.000000  19.070000      18.817804    59725500  11.500000   \n",
       "2018-09-26  18.389999  18.420000      18.323053    78326300  15.170000   \n",
       "2014-05-05  24.290001  24.410000      23.657995    13954400  36.259998   \n",
       "2014-11-04  17.129999  17.209999      16.679804    67537600  29.309999   \n",
       "\n",
       "             USO_High    USO_Low  USO_Close  USO_Adj Close  USO_Volume  \n",
       "Date                                                                    \n",
       "2017-03-16  10.400000  10.290000  10.360000      10.360000    22429000  \n",
       "2014-06-02  37.570000  37.380001  37.529999      37.529999     3111500  \n",
       "2015-07-23  16.490000  16.020000  16.139999      16.139999    22692200  \n",
       "2018-10-23  14.390000  13.930000  14.040000      14.040000    46733900  \n",
       "2014-09-25  35.130001  34.650002  34.830002      34.830002     4266400  \n",
       "...               ...        ...        ...            ...         ...  \n",
       "2015-06-15  20.200001  19.940001  20.150000      20.150000    10051700  \n",
       "2016-12-22  11.590000  11.460000  11.460000      11.460000    18279200  \n",
       "2018-09-26  15.240000  15.090000  15.110000      15.110000    11065200  \n",
       "2014-05-05  36.259998  35.959999  36.139999      36.139999     2344000  \n",
       "2014-11-04  29.370001  28.889999  29.299999      29.299999    12654700  \n",
       "\n",
       "[1202 rows x 79 columns]"
      ]
     },
     "execution_count": 12,
     "metadata": {},
     "output_type": "execute_result"
    }
   ],
   "source": [
    "X_train"
   ]
  },
  {
   "cell_type": "markdown",
   "metadata": {},
   "source": [
    "### Prediction avec Tensorflow/Deep Learning"
   ]
  },
  {
   "cell_type": "markdown",
   "metadata": {},
   "source": [
    "#### Jeu de données d'entrainement et de validation"
   ]
  },
  {
   "cell_type": "code",
   "execution_count": 11,
   "metadata": {},
   "outputs": [],
   "source": [
    "trainSet, Valset = train_test_split(trainset, train_size=0.7)"
   ]
  },
  {
   "cell_type": "code",
   "execution_count": 12,
   "metadata": {},
   "outputs": [
    {
     "data": {
      "text/plain": [
       "(841, 80)"
      ]
     },
     "execution_count": 12,
     "metadata": {},
     "output_type": "execute_result"
    }
   ],
   "source": [
    "trainSet.shape"
   ]
  },
  {
   "cell_type": "code",
   "execution_count": 13,
   "metadata": {},
   "outputs": [
    {
     "data": {
      "text/plain": [
       "(361, 80)"
      ]
     },
     "execution_count": 13,
     "metadata": {},
     "output_type": "execute_result"
    }
   ],
   "source": [
    "Valset.shape"
   ]
  },
  {
   "cell_type": "code",
   "execution_count": 24,
   "metadata": {},
   "outputs": [],
   "source": [
    "X_train = trainSet.drop(\"Adj Close\", axis=1)\n",
    "y_train = trainSet['Adj Close']\n",
    "\n",
    "X_val = Valset.drop(\"Adj Close\", axis=1)\n",
    "y_val = Valset['Adj Close']"
   ]
  },
  {
   "cell_type": "code",
   "execution_count": 17,
   "metadata": {},
   "outputs": [],
   "source": [
    "X_test, y_test = testset.drop(\"Adj Close\", axis=1), testset['Adj Close']"
   ]
  },
  {
   "cell_type": "code",
   "execution_count": 18,
   "metadata": {},
   "outputs": [
    {
     "data": {
      "text/plain": [
       "(516, 79)"
      ]
     },
     "execution_count": 18,
     "metadata": {},
     "output_type": "execute_result"
    }
   ],
   "source": [
    "X_test.shape"
   ]
  },
  {
   "cell_type": "code",
   "execution_count": 19,
   "metadata": {},
   "outputs": [
    {
     "data": {
      "text/plain": [
       "(516,)"
      ]
     },
     "execution_count": 19,
     "metadata": {},
     "output_type": "execute_result"
    }
   ],
   "source": [
    "y_test.shape"
   ]
  },
  {
   "cell_type": "code",
   "execution_count": 22,
   "metadata": {},
   "outputs": [
    {
     "data": {
      "text/plain": [
       "(841,)"
      ]
     },
     "execution_count": 22,
     "metadata": {},
     "output_type": "execute_result"
    }
   ],
   "source": [
    "y_train.shape"
   ]
  },
  {
   "cell_type": "code",
   "execution_count": 23,
   "metadata": {},
   "outputs": [],
   "source": [
    "st = StandardScaler()"
   ]
  },
  {
   "cell_type": "code",
   "execution_count": 25,
   "metadata": {},
   "outputs": [],
   "source": [
    "X_train_stand = st.fit_transform(X_train)\n",
    "X_val_stand = st.transform(X_val)\n",
    "X_test_stand = st.transform(X_test)"
   ]
  },
  {
   "cell_type": "code",
   "execution_count": 21,
   "metadata": {},
   "outputs": [],
   "source": [
    "model = keras.models.Sequential()"
   ]
  },
  {
   "cell_type": "code",
   "execution_count": 29,
   "metadata": {},
   "outputs": [],
   "source": [
    "model.add(keras.layers.Dense(10, activation = \"relu\", input_shape = X_train_stand.shape[1:]))\n",
    "model.add(keras.layers.Dense(8, activation = \"relu\"))\n",
    "model.add(keras.layers.Dense(5, activation = \"relu\"))\n",
    "model.add(keras.layers.Dense(1))"
   ]
  },
  {
   "cell_type": "code",
   "execution_count": 30,
   "metadata": {},
   "outputs": [
    {
     "name": "stdout",
     "output_type": "stream",
     "text": [
      "Model: \"sequential_1\"\n",
      "_________________________________________________________________\n",
      "Layer (type)                 Output Shape              Param #   \n",
      "=================================================================\n",
      "dense_1 (Dense)              (None, 10)                800       \n",
      "_________________________________________________________________\n",
      "dense_2 (Dense)              (None, 8)                 88        \n",
      "_________________________________________________________________\n",
      "dense_3 (Dense)              (None, 5)                 45        \n",
      "_________________________________________________________________\n",
      "dense_4 (Dense)              (None, 1)                 6         \n",
      "=================================================================\n",
      "Total params: 939\n",
      "Trainable params: 939\n",
      "Non-trainable params: 0\n",
      "_________________________________________________________________\n"
     ]
    }
   ],
   "source": [
    "model.summary()"
   ]
  },
  {
   "cell_type": "code",
   "execution_count": 31,
   "metadata": {},
   "outputs": [],
   "source": [
    "model.compile(loss=\"mse\", optimizer = \"rmsprop\", metrics=[\"mae\"])"
   ]
  },
  {
   "cell_type": "code",
   "execution_count": 32,
   "metadata": {},
   "outputs": [
    {
     "name": "stdout",
     "output_type": "stream",
     "text": [
      "Epoch 1/10\n",
      "27/27 [==============================] - 2s 21ms/step - loss: 16637.1935 - mae: 127.7259 - val_loss: 16451.0879 - val_mae: 127.1054\n",
      "Epoch 2/10\n",
      "27/27 [==============================] - 0s 3ms/step - loss: 16598.9626 - mae: 127.6342 - val_loss: 16436.5859 - val_mae: 127.0485\n",
      "Epoch 3/10\n",
      "27/27 [==============================] - 0s 2ms/step - loss: 16496.7085 - mae: 127.2957 - val_loss: 16403.5605 - val_mae: 126.9245\n",
      "Epoch 4/10\n",
      "27/27 [==============================] - 0s 3ms/step - loss: 16581.5530 - mae: 127.5809 - val_loss: 16313.4102 - val_mae: 126.5881\n",
      "Epoch 5/10\n",
      "27/27 [==============================] - 0s 2ms/step - loss: 16353.2829 - mae: 126.7358 - val_loss: 16161.5498 - val_mae: 126.0199\n",
      "Epoch 6/10\n",
      "27/27 [==============================] - 0s 2ms/step - loss: 16300.1921 - mae: 126.4870 - val_loss: 15923.0791 - val_mae: 125.1231\n",
      "Epoch 7/10\n",
      "27/27 [==============================] - 0s 2ms/step - loss: 16046.7429 - mae: 125.5470 - val_loss: 15562.9531 - val_mae: 123.7595\n",
      "Epoch 8/10\n",
      "27/27 [==============================] - 0s 2ms/step - loss: 15437.3801 - mae: 123.2955 - val_loss: 15073.2578 - val_mae: 121.8758\n",
      "Epoch 9/10\n",
      "27/27 [==============================] - 0s 2ms/step - loss: 14860.7525 - mae: 121.0240 - val_loss: 14445.2061 - val_mae: 119.4072\n",
      "Epoch 10/10\n",
      "27/27 [==============================] - 0s 2ms/step - loss: 14242.1843 - mae: 118.5585 - val_loss: 13645.9326 - val_mae: 116.1735\n"
     ]
    },
    {
     "data": {
      "text/plain": [
       "<tensorflow.python.keras.callbacks.History at 0x1b2598b3ac0>"
      ]
     },
     "execution_count": 32,
     "metadata": {},
     "output_type": "execute_result"
    }
   ],
   "source": [
    "model.fit(X_train_stand, y_train, epochs=10, validation_data=(X_val_stand, y_val))"
   ]
  },
  {
   "cell_type": "code",
   "execution_count": 34,
   "metadata": {},
   "outputs": [
    {
     "name": "stdout",
     "output_type": "stream",
     "text": [
      "17/17 [==============================] - 0s 810us/step - loss: 13692.7275 - mae: 116.3337\n"
     ]
    },
    {
     "data": {
      "text/plain": [
       "[13692.7275390625, 116.33372497558594]"
      ]
     },
     "execution_count": 34,
     "metadata": {},
     "output_type": "execute_result"
    }
   ],
   "source": [
    "model.evaluate(X_test_stand, y_test)"
   ]
  },
  {
   "cell_type": "markdown",
   "metadata": {},
   "source": [
    "### Modélisation avec Linéaire avec Composantes principales"
   ]
  },
  {
   "cell_type": "markdown",
   "metadata": {},
   "source": [
    "- Réduction du problème de multicolinéarité\n",
    "- Réduction de dimension"
   ]
  },
  {
   "cell_type": "code",
   "execution_count": 12,
   "metadata": {},
   "outputs": [],
   "source": [
    "st = StandardScaler()"
   ]
  },
  {
   "cell_type": "code",
   "execution_count": 5,
   "metadata": {},
   "outputs": [],
   "source": [
    "trainset, testset = train_test_split(df, train_size=.7, random_state=0)"
   ]
  },
  {
   "cell_type": "code",
   "execution_count": 14,
   "metadata": {},
   "outputs": [],
   "source": [
    "X_train, y_train = df.drop('Adj Close', axis=1), df['Adj Close']\n",
    "\n",
    "X_test, y_test = df.drop('Adj Close', axis=1), df['Adj Close']"
   ]
  },
  {
   "cell_type": "code",
   "execution_count": 13,
   "metadata": {},
   "outputs": [],
   "source": [
    "Xtrain = st.fit_transform(X_train)"
   ]
  },
  {
   "cell_type": "code",
   "execution_count": 15,
   "metadata": {},
   "outputs": [],
   "source": [
    "X_test = st.transform(X_test)"
   ]
  },
  {
   "cell_type": "code",
   "execution_count": 8,
   "metadata": {},
   "outputs": [],
   "source": [
    "pca = PCA(n_components=.95, random_state=0)"
   ]
  },
  {
   "cell_type": "code",
   "execution_count": 16,
   "metadata": {},
   "outputs": [],
   "source": [
    "Xtrain = pca.fit_transform(Xtrain)"
   ]
  },
  {
   "cell_type": "code",
   "execution_count": 20,
   "metadata": {},
   "outputs": [],
   "source": [
    "X_test = pca.transform(X_test)"
   ]
  },
  {
   "cell_type": "code",
   "execution_count": 17,
   "metadata": {},
   "outputs": [
    {
     "data": {
      "text/plain": [
       "array([[11.6975515 ,  2.3854512 ,  2.01878082, ..., -1.52440274,\n",
       "         2.28913945,  1.94410638],\n",
       "       [11.32498902,  2.11652925,  2.51349342, ..., -1.89836412,\n",
       "        -0.15037332, -0.18604358],\n",
       "       [11.09852099,  2.15924043,  1.93876704, ..., -1.38643682,\n",
       "         0.16514338,  0.73199756],\n",
       "       ...,\n",
       "       [-7.64068428, -3.53959683,  2.89930254, ..., -1.45878172,\n",
       "         1.64724164,  1.69604732],\n",
       "       [-7.6008835 , -3.78482555,  2.81494226, ..., -1.44220074,\n",
       "         1.96508773,  1.02528741],\n",
       "       [-7.54487485, -2.9830491 ,  2.13815903, ..., -0.74813761,\n",
       "         0.46493777, -0.27976301]])"
      ]
     },
     "execution_count": 17,
     "metadata": {},
     "output_type": "execute_result"
    }
   ],
   "source": [
    "Xtrain"
   ]
  },
  {
   "cell_type": "code",
   "execution_count": 18,
   "metadata": {},
   "outputs": [],
   "source": [
    "linear = LinearRegression()"
   ]
  },
  {
   "cell_type": "code",
   "execution_count": 19,
   "metadata": {},
   "outputs": [
    {
     "data": {
      "text/plain": [
       "LinearRegression()"
      ]
     },
     "execution_count": 19,
     "metadata": {},
     "output_type": "execute_result"
    }
   ],
   "source": [
    "linear.fit(Xtrain, y_train)"
   ]
  },
  {
   "cell_type": "code",
   "execution_count": 21,
   "metadata": {},
   "outputs": [
    {
     "data": {
      "text/plain": [
       "0.9857538432126925"
      ]
     },
     "execution_count": 21,
     "metadata": {},
     "output_type": "execute_result"
    }
   ],
   "source": [
    "linear.score(Xtrain, y_train)"
   ]
  },
  {
   "cell_type": "code",
   "execution_count": 22,
   "metadata": {},
   "outputs": [
    {
     "data": {
      "text/plain": [
       "0.9857538432126925"
      ]
     },
     "execution_count": 22,
     "metadata": {},
     "output_type": "execute_result"
    }
   ],
   "source": [
    "linear.score(X_test, y_test)"
   ]
  },
  {
   "cell_type": "code",
   "execution_count": 24,
   "metadata": {},
   "outputs": [
    {
     "data": {
      "text/plain": [
       "array([ 2.26327311e+00,  1.56928415e-01,  3.70134577e+00,  9.10608398e-02,\n",
       "        9.41073216e-02, -1.39057904e-01,  3.42358995e-01, -8.10549970e-03,\n",
       "        4.22428702e-02, -7.98407929e-02, -2.40665176e-01,  3.23483539e-03,\n",
       "       -6.62735423e-01, -3.37632161e-02, -4.39942769e-01])"
      ]
     },
     "execution_count": 24,
     "metadata": {},
     "output_type": "execute_result"
    }
   ],
   "source": [
    "linear.coef_"
   ]
  },
  {
   "cell_type": "code",
   "execution_count": 25,
   "metadata": {},
   "outputs": [
    {
     "data": {
      "text/plain": [
       "127.31948200349244"
      ]
     },
     "execution_count": 25,
     "metadata": {},
     "output_type": "execute_result"
    }
   ],
   "source": [
    "linear.intercept_"
   ]
  },
  {
   "cell_type": "markdown",
   "metadata": {},
   "source": [
    "- Nous sommes dans un cas multivarié, de ce fait nous utiliseront une modélisation VAR et/ou GARCH"
   ]
  },
  {
   "cell_type": "markdown",
   "metadata": {},
   "source": [
    "### Modélisation VAR et GARCH"
   ]
  },
  {
   "cell_type": "markdown",
   "metadata": {},
   "source": [
    "1-Tester la stationnarité des données et le degré d'intégration\n",
    "\n",
    "2-Détermination de la longueur du retard\n",
    "\n",
    "3-Tester la causalité de Granger\n",
    "\n",
    "4-Estimation du VAR"
   ]
  },
  {
   "cell_type": "markdown",
   "metadata": {},
   "source": [
    "#### 1- Stationnarité"
   ]
  },
  {
   "cell_type": "code",
   "execution_count": 26,
   "metadata": {},
   "outputs": [],
   "source": [
    "from statsmodels.tsa.stattools import adfuller"
   ]
  },
  {
   "cell_type": "code",
   "execution_count": 27,
   "metadata": {},
   "outputs": [],
   "source": [
    "result = adfuller(df['Adj Close'])"
   ]
  },
  {
   "cell_type": "code",
   "execution_count": 28,
   "metadata": {},
   "outputs": [
    {
     "data": {
      "text/plain": [
       "(-1.8234601291067791,\n",
       " 0.3688781538232949,\n",
       " 1,\n",
       " 1716,\n",
       " {'1%': -3.434166497101742,\n",
       "  '5%': -2.8632257697922383,\n",
       "  '10%': -2.5676674574279645},\n",
       " 5546.384488385469)"
      ]
     },
     "execution_count": 28,
     "metadata": {},
     "output_type": "execute_result"
    }
   ],
   "source": [
    "result"
   ]
  },
  {
   "cell_type": "code",
   "execution_count": 44,
   "metadata": {},
   "outputs": [],
   "source": [
    "def stationnarite(x):\n",
    "    print('Augmented Dickey-Fuller test (DAF):' + '\\n\\n')\n",
    "    \n",
    "    labels = ['ADF Test Statistic','p-value','#Lags Used','Number of Observations Used']\n",
    "    result = adfuller(x)\n",
    "    for value,label in zip(result,labels):\n",
    "        print(label+' : '+str(value) )\n",
    "    \n",
    "    if result[1] <= 0.05:\n",
    "        print(\"Preuves solides contre l'hypothèse nulle, rejette l'hypothèse nulle. Les données n'ont pas de racine unitaire et sont stationnaires\")\n",
    "    else:\n",
    "        print(\"Faible preuve contre l'hypothèse nulle, la série temporelle a une racine unitaire, ce qui indique qu'elle est non stationnaire \")\n",
    "    print('====='*25)"
   ]
  },
  {
   "cell_type": "code",
   "execution_count": 45,
   "metadata": {
    "scrolled": false
   },
   "outputs": [
    {
     "name": "stdout",
     "output_type": "stream",
     "text": [
      "Augmented Dickey-Fuller test (DAF):\n",
      "\n",
      "\n",
      "ADF Test Statistic : -1.8463008423644895\n",
      "p-value : 0.35772875583369057\n",
      "#Lags Used : 0\n",
      "Number of Observations Used : 1717\n",
      "Faible preuve contre l'hypothèse nulle, la série temporelle a une racine unitaire, ce qui indique qu'elle est non stationnaire \n",
      "=============================================================================================================================\n",
      "Augmented Dickey-Fuller test (DAF):\n",
      "\n",
      "\n",
      "ADF Test Statistic : -1.7801526424376242\n",
      "p-value : 0.39035891836031456\n",
      "#Lags Used : 0\n",
      "Number of Observations Used : 1717\n",
      "Faible preuve contre l'hypothèse nulle, la série temporelle a une racine unitaire, ce qui indique qu'elle est non stationnaire \n",
      "=============================================================================================================================\n",
      "Augmented Dickey-Fuller test (DAF):\n",
      "\n",
      "\n",
      "ADF Test Statistic : -1.8089020844046253\n",
      "p-value : 0.3760510982793307\n",
      "#Lags Used : 2\n",
      "Number of Observations Used : 1715\n",
      "Faible preuve contre l'hypothèse nulle, la série temporelle a une racine unitaire, ce qui indique qu'elle est non stationnaire \n",
      "=============================================================================================================================\n",
      "Augmented Dickey-Fuller test (DAF):\n",
      "\n",
      "\n",
      "ADF Test Statistic : -1.8234601291067791\n",
      "p-value : 0.3688781538232949\n",
      "#Lags Used : 1\n",
      "Number of Observations Used : 1716\n",
      "Faible preuve contre l'hypothèse nulle, la série temporelle a une racine unitaire, ce qui indique qu'elle est non stationnaire \n",
      "=============================================================================================================================\n",
      "Augmented Dickey-Fuller test (DAF):\n",
      "\n",
      "\n",
      "ADF Test Statistic : -1.8234601291067791\n",
      "p-value : 0.3688781538232949\n",
      "#Lags Used : 1\n",
      "Number of Observations Used : 1716\n",
      "Faible preuve contre l'hypothèse nulle, la série temporelle a une racine unitaire, ce qui indique qu'elle est non stationnaire \n",
      "=============================================================================================================================\n",
      "Augmented Dickey-Fuller test (DAF):\n",
      "\n",
      "\n",
      "ADF Test Statistic : -6.3711305885921\n",
      "p-value : 2.343614045180713e-08\n",
      "#Lags Used : 13\n",
      "Number of Observations Used : 1704\n",
      "Preuves solides contre l'hypothèse nulle, rejette l'hypothèse nulle. Les données n'ont pas de racine unitaire et sont stationnaires\n",
      "=============================================================================================================================\n",
      "Augmented Dickey-Fuller test (DAF):\n",
      "\n",
      "\n",
      "ADF Test Statistic : -1.4527706602828088\n",
      "p-value : 0.5567323808373785\n",
      "#Lags Used : 17\n",
      "Number of Observations Used : 1700\n",
      "Faible preuve contre l'hypothèse nulle, la série temporelle a une racine unitaire, ce qui indique qu'elle est non stationnaire \n",
      "=============================================================================================================================\n",
      "Augmented Dickey-Fuller test (DAF):\n",
      "\n",
      "\n",
      "ADF Test Statistic : -1.5874832069223135\n",
      "p-value : 0.4898780145038315\n",
      "#Lags Used : 1\n",
      "Number of Observations Used : 1716\n",
      "Faible preuve contre l'hypothèse nulle, la série temporelle a une racine unitaire, ce qui indique qu'elle est non stationnaire \n",
      "=============================================================================================================================\n",
      "Augmented Dickey-Fuller test (DAF):\n",
      "\n",
      "\n",
      "ADF Test Statistic : -1.4646390604681223\n",
      "p-value : 0.5509257806393116\n",
      "#Lags Used : 17\n",
      "Number of Observations Used : 1700\n",
      "Faible preuve contre l'hypothèse nulle, la série temporelle a une racine unitaire, ce qui indique qu'elle est non stationnaire \n",
      "=============================================================================================================================\n",
      "Augmented Dickey-Fuller test (DAF):\n",
      "\n",
      "\n",
      "ADF Test Statistic : -1.4727798132207728\n",
      "p-value : 0.5469312468466628\n",
      "#Lags Used : 14\n",
      "Number of Observations Used : 1703\n",
      "Faible preuve contre l'hypothèse nulle, la série temporelle a une racine unitaire, ce qui indique qu'elle est non stationnaire \n",
      "=============================================================================================================================\n",
      "Augmented Dickey-Fuller test (DAF):\n",
      "\n",
      "\n",
      "ADF Test Statistic : -1.183171649337704\n",
      "p-value : 0.6807926298896059\n",
      "#Lags Used : 24\n",
      "Number of Observations Used : 1693\n",
      "Faible preuve contre l'hypothèse nulle, la série temporelle a une racine unitaire, ce qui indique qu'elle est non stationnaire \n",
      "=============================================================================================================================\n",
      "Augmented Dickey-Fuller test (DAF):\n",
      "\n",
      "\n",
      "ADF Test Statistic : -7.007161432646558\n",
      "p-value : 7.073357195729435e-10\n",
      "#Lags Used : 8\n",
      "Number of Observations Used : 1709\n",
      "Preuves solides contre l'hypothèse nulle, rejette l'hypothèse nulle. Les données n'ont pas de racine unitaire et sont stationnaires\n",
      "=============================================================================================================================\n",
      "Augmented Dickey-Fuller test (DAF):\n",
      "\n",
      "\n",
      "ADF Test Statistic : -0.8373787473043387\n",
      "p-value : 0.8078950772983647\n",
      "#Lags Used : 24\n",
      "Number of Observations Used : 1693\n",
      "Faible preuve contre l'hypothèse nulle, la série temporelle a une racine unitaire, ce qui indique qu'elle est non stationnaire \n",
      "=============================================================================================================================\n",
      "Augmented Dickey-Fuller test (DAF):\n",
      "\n",
      "\n",
      "ADF Test Statistic : -0.8174755913954709\n",
      "p-value : 0.8139347721523522\n",
      "#Lags Used : 24\n",
      "Number of Observations Used : 1693\n",
      "Faible preuve contre l'hypothèse nulle, la série temporelle a une racine unitaire, ce qui indique qu'elle est non stationnaire \n",
      "=============================================================================================================================\n",
      "Augmented Dickey-Fuller test (DAF):\n",
      "\n",
      "\n",
      "ADF Test Statistic : -0.8225427189213558\n",
      "p-value : 0.8124104714624434\n",
      "#Lags Used : 24\n",
      "Number of Observations Used : 1693\n",
      "Faible preuve contre l'hypothèse nulle, la série temporelle a une racine unitaire, ce qui indique qu'elle est non stationnaire \n",
      "=============================================================================================================================\n",
      "Augmented Dickey-Fuller test (DAF):\n",
      "\n",
      "\n",
      "ADF Test Statistic : -0.8225709125623474\n",
      "p-value : 0.8124019647408942\n",
      "#Lags Used : 24\n",
      "Number of Observations Used : 1693\n",
      "Faible preuve contre l'hypothèse nulle, la série temporelle a une racine unitaire, ce qui indique qu'elle est non stationnaire \n",
      "=============================================================================================================================\n",
      "Augmented Dickey-Fuller test (DAF):\n",
      "\n",
      "\n",
      "ADF Test Statistic : -0.8225709125623474\n",
      "p-value : 0.8124019647408942\n",
      "#Lags Used : 24\n",
      "Number of Observations Used : 1693\n",
      "Faible preuve contre l'hypothèse nulle, la série temporelle a une racine unitaire, ce qui indique qu'elle est non stationnaire \n",
      "=============================================================================================================================\n",
      "Augmented Dickey-Fuller test (DAF):\n",
      "\n",
      "\n",
      "ADF Test Statistic : -0.8475976991534431\n",
      "p-value : 0.8047393979612045\n",
      "#Lags Used : 23\n",
      "Number of Observations Used : 1694\n",
      "Faible preuve contre l'hypothèse nulle, la série temporelle a une racine unitaire, ce qui indique qu'elle est non stationnaire \n",
      "=============================================================================================================================\n",
      "Augmented Dickey-Fuller test (DAF):\n",
      "\n",
      "\n",
      "ADF Test Statistic : -1.8934851221850848\n",
      "p-value : 0.33513209442640657\n",
      "#Lags Used : 16\n",
      "Number of Observations Used : 1701\n",
      "Faible preuve contre l'hypothèse nulle, la série temporelle a une racine unitaire, ce qui indique qu'elle est non stationnaire \n",
      "=============================================================================================================================\n",
      "Augmented Dickey-Fuller test (DAF):\n",
      "\n",
      "\n",
      "ADF Test Statistic : -1.5673435603701147\n",
      "p-value : 0.49997401668556973\n",
      "#Lags Used : 3\n",
      "Number of Observations Used : 1714\n",
      "Faible preuve contre l'hypothèse nulle, la série temporelle a une racine unitaire, ce qui indique qu'elle est non stationnaire \n",
      "=============================================================================================================================\n",
      "Augmented Dickey-Fuller test (DAF):\n",
      "\n",
      "\n",
      "ADF Test Statistic : -1.9651820581557602\n",
      "p-value : 0.30204504130979826\n",
      "#Lags Used : 1\n",
      "Number of Observations Used : 1716\n",
      "Faible preuve contre l'hypothèse nulle, la série temporelle a une racine unitaire, ce qui indique qu'elle est non stationnaire \n",
      "=============================================================================================================================\n",
      "Augmented Dickey-Fuller test (DAF):\n",
      "\n",
      "\n"
     ]
    },
    {
     "name": "stdout",
     "output_type": "stream",
     "text": [
      "ADF Test Statistic : -1.864222408819324\n",
      "p-value : 0.34907457901485606\n",
      "#Lags Used : 0\n",
      "Number of Observations Used : 1717\n",
      "Faible preuve contre l'hypothèse nulle, la série temporelle a une racine unitaire, ce qui indique qu'elle est non stationnaire \n",
      "=============================================================================================================================\n",
      "Augmented Dickey-Fuller test (DAF):\n",
      "\n",
      "\n",
      "ADF Test Statistic : -1.8235233496579035\n",
      "p-value : 0.36884711487060695\n",
      "#Lags Used : 0\n",
      "Number of Observations Used : 1717\n",
      "Faible preuve contre l'hypothèse nulle, la série temporelle a une racine unitaire, ce qui indique qu'elle est non stationnaire \n",
      "=============================================================================================================================\n",
      "Augmented Dickey-Fuller test (DAF):\n",
      "\n",
      "\n",
      "ADF Test Statistic : -4.404808160821285\n",
      "p-value : 0.0002910704180344951\n",
      "#Lags Used : 24\n",
      "Number of Observations Used : 1693\n",
      "Preuves solides contre l'hypothèse nulle, rejette l'hypothèse nulle. Les données n'ont pas de racine unitaire et sont stationnaires\n",
      "=============================================================================================================================\n",
      "Augmented Dickey-Fuller test (DAF):\n",
      "\n",
      "\n",
      "ADF Test Statistic : -1.3957101474826934\n",
      "p-value : 0.5843309910002824\n",
      "#Lags Used : 0\n",
      "Number of Observations Used : 1717\n",
      "Faible preuve contre l'hypothèse nulle, la série temporelle a une racine unitaire, ce qui indique qu'elle est non stationnaire \n",
      "=============================================================================================================================\n",
      "Augmented Dickey-Fuller test (DAF):\n",
      "\n",
      "\n",
      "ADF Test Statistic : -1.3449209332906937\n",
      "p-value : 0.6083787556152045\n",
      "#Lags Used : 1\n",
      "Number of Observations Used : 1716\n",
      "Faible preuve contre l'hypothèse nulle, la série temporelle a une racine unitaire, ce qui indique qu'elle est non stationnaire \n",
      "=============================================================================================================================\n",
      "Augmented Dickey-Fuller test (DAF):\n",
      "\n",
      "\n",
      "ADF Test Statistic : -1.3512429001487323\n",
      "p-value : 0.6054150732405312\n",
      "#Lags Used : 2\n",
      "Number of Observations Used : 1715\n",
      "Faible preuve contre l'hypothèse nulle, la série temporelle a une racine unitaire, ce qui indique qu'elle est non stationnaire \n",
      "=============================================================================================================================\n",
      "Augmented Dickey-Fuller test (DAF):\n",
      "\n",
      "\n",
      "ADF Test Statistic : -1.1189527426066368\n",
      "p-value : 0.7074548972418229\n",
      "#Lags Used : 14\n",
      "Number of Observations Used : 1703\n",
      "Faible preuve contre l'hypothèse nulle, la série temporelle a une racine unitaire, ce qui indique qu'elle est non stationnaire \n",
      "=============================================================================================================================\n",
      "Augmented Dickey-Fuller test (DAF):\n",
      "\n",
      "\n",
      "ADF Test Statistic : -30.959748444559235\n",
      "p-value : 0.0\n",
      "#Lags Used : 1\n",
      "Number of Observations Used : 1716\n",
      "Preuves solides contre l'hypothèse nulle, rejette l'hypothèse nulle. Les données n'ont pas de racine unitaire et sont stationnaires\n",
      "=============================================================================================================================\n",
      "Augmented Dickey-Fuller test (DAF):\n",
      "\n",
      "\n",
      "ADF Test Statistic : -1.1142929744560153\n",
      "p-value : 0.709338505361693\n",
      "#Lags Used : 6\n",
      "Number of Observations Used : 1711\n",
      "Faible preuve contre l'hypothèse nulle, la série temporelle a une racine unitaire, ce qui indique qu'elle est non stationnaire \n",
      "=============================================================================================================================\n",
      "Augmented Dickey-Fuller test (DAF):\n",
      "\n",
      "\n",
      "ADF Test Statistic : -1.0892901146315421\n",
      "p-value : 0.7193239314274924\n",
      "#Lags Used : 6\n",
      "Number of Observations Used : 1711\n",
      "Faible preuve contre l'hypothèse nulle, la série temporelle a une racine unitaire, ce qui indique qu'elle est non stationnaire \n",
      "=============================================================================================================================\n",
      "Augmented Dickey-Fuller test (DAF):\n",
      "\n",
      "\n",
      "ADF Test Statistic : -1.1581922900916732\n",
      "p-value : 0.6913169815582314\n",
      "#Lags Used : 7\n",
      "Number of Observations Used : 1710\n",
      "Faible preuve contre l'hypothèse nulle, la série temporelle a une racine unitaire, ce qui indique qu'elle est non stationnaire \n",
      "=============================================================================================================================\n",
      "Augmented Dickey-Fuller test (DAF):\n",
      "\n",
      "\n",
      "ADF Test Statistic : -1.0994140869719746\n",
      "p-value : 0.7153055039426921\n",
      "#Lags Used : 5\n",
      "Number of Observations Used : 1712\n",
      "Faible preuve contre l'hypothèse nulle, la série temporelle a une racine unitaire, ce qui indique qu'elle est non stationnaire \n",
      "=============================================================================================================================\n",
      "Augmented Dickey-Fuller test (DAF):\n",
      "\n",
      "\n",
      "ADF Test Statistic : -3.491407786419007\n",
      "p-value : 0.008210521809643927\n",
      "#Lags Used : 23\n",
      "Number of Observations Used : 1694\n",
      "Preuves solides contre l'hypothèse nulle, rejette l'hypothèse nulle. Les données n'ont pas de racine unitaire et sont stationnaires\n",
      "=============================================================================================================================\n",
      "Augmented Dickey-Fuller test (DAF):\n",
      "\n",
      "\n",
      "ADF Test Statistic : -11.032645146730774\n",
      "p-value : 5.617770907739828e-20\n",
      "#Lags Used : 8\n",
      "Number of Observations Used : 1709\n",
      "Preuves solides contre l'hypothèse nulle, rejette l'hypothèse nulle. Les données n'ont pas de racine unitaire et sont stationnaires\n",
      "=============================================================================================================================\n",
      "Augmented Dickey-Fuller test (DAF):\n",
      "\n",
      "\n",
      "ADF Test Statistic : -1.0113184988192327\n",
      "p-value : 0.7491137859899617\n",
      "#Lags Used : 2\n",
      "Number of Observations Used : 1715\n",
      "Faible preuve contre l'hypothèse nulle, la série temporelle a une racine unitaire, ce qui indique qu'elle est non stationnaire \n",
      "=============================================================================================================================\n",
      "Augmented Dickey-Fuller test (DAF):\n",
      "\n",
      "\n",
      "ADF Test Statistic : -1.0014426758350756\n",
      "p-value : 0.7527377547135343\n",
      "#Lags Used : 2\n",
      "Number of Observations Used : 1715\n",
      "Faible preuve contre l'hypothèse nulle, la série temporelle a une racine unitaire, ce qui indique qu'elle est non stationnaire \n",
      "=============================================================================================================================\n",
      "Augmented Dickey-Fuller test (DAF):\n",
      "\n",
      "\n",
      "ADF Test Statistic : -1.0055035118998839\n",
      "p-value : 0.75125173273184\n",
      "#Lags Used : 1\n",
      "Number of Observations Used : 1716\n",
      "Faible preuve contre l'hypothèse nulle, la série temporelle a une racine unitaire, ce qui indique qu'elle est non stationnaire \n",
      "=============================================================================================================================\n",
      "Augmented Dickey-Fuller test (DAF):\n",
      "\n",
      "\n",
      "ADF Test Statistic : -1.0373461094579475\n",
      "p-value : 0.739400712833857\n",
      "#Lags Used : 1\n",
      "Number of Observations Used : 1716\n",
      "Faible preuve contre l'hypothèse nulle, la série temporelle a une racine unitaire, ce qui indique qu'elle est non stationnaire \n",
      "=============================================================================================================================\n",
      "Augmented Dickey-Fuller test (DAF):\n",
      "\n",
      "\n",
      "ADF Test Statistic : -28.60519927314621\n",
      "p-value : 0.0\n",
      "#Lags Used : 1\n",
      "Number of Observations Used : 1716\n",
      "Preuves solides contre l'hypothèse nulle, rejette l'hypothèse nulle. Les données n'ont pas de racine unitaire et sont stationnaires\n",
      "=============================================================================================================================\n",
      "Augmented Dickey-Fuller test (DAF):\n",
      "\n",
      "\n",
      "ADF Test Statistic : -1.9344139556204538\n",
      "p-value : 0.3160488442005279\n",
      "#Lags Used : 15\n",
      "Number of Observations Used : 1702\n",
      "Faible preuve contre l'hypothèse nulle, la série temporelle a une racine unitaire, ce qui indique qu'elle est non stationnaire \n",
      "=============================================================================================================================\n",
      "Augmented Dickey-Fuller test (DAF):\n",
      "\n",
      "\n"
     ]
    },
    {
     "name": "stdout",
     "output_type": "stream",
     "text": [
      "ADF Test Statistic : -2.0346908713776677\n",
      "p-value : 0.2715724842989583\n",
      "#Lags Used : 6\n",
      "Number of Observations Used : 1711\n",
      "Faible preuve contre l'hypothèse nulle, la série temporelle a une racine unitaire, ce qui indique qu'elle est non stationnaire \n",
      "=============================================================================================================================\n",
      "Augmented Dickey-Fuller test (DAF):\n",
      "\n",
      "\n",
      "ADF Test Statistic : -2.1124069703924144\n",
      "p-value : 0.2395550510148623\n",
      "#Lags Used : 11\n",
      "Number of Observations Used : 1706\n",
      "Faible preuve contre l'hypothèse nulle, la série temporelle a une racine unitaire, ce qui indique qu'elle est non stationnaire \n",
      "=============================================================================================================================\n",
      "Augmented Dickey-Fuller test (DAF):\n",
      "\n",
      "\n",
      "ADF Test Statistic : -1.9091715134634824\n",
      "p-value : 0.3277589185047467\n",
      "#Lags Used : 1\n",
      "Number of Observations Used : 1716\n",
      "Faible preuve contre l'hypothèse nulle, la série temporelle a une racine unitaire, ce qui indique qu'elle est non stationnaire \n",
      "=============================================================================================================================\n",
      "Augmented Dickey-Fuller test (DAF):\n",
      "\n",
      "\n",
      "ADF Test Statistic : -2.8290140363485987\n",
      "p-value : 0.05424734686869529\n",
      "#Lags Used : 23\n",
      "Number of Observations Used : 1694\n",
      "Faible preuve contre l'hypothèse nulle, la série temporelle a une racine unitaire, ce qui indique qu'elle est non stationnaire \n",
      "=============================================================================================================================\n",
      "Augmented Dickey-Fuller test (DAF):\n",
      "\n",
      "\n",
      "ADF Test Statistic : -28.669716897245987\n",
      "p-value : 0.0\n",
      "#Lags Used : 1\n",
      "Number of Observations Used : 1716\n",
      "Preuves solides contre l'hypothèse nulle, rejette l'hypothèse nulle. Les données n'ont pas de racine unitaire et sont stationnaires\n",
      "=============================================================================================================================\n",
      "Augmented Dickey-Fuller test (DAF):\n",
      "\n",
      "\n",
      "ADF Test Statistic : -2.0444522868896584\n",
      "p-value : 0.2674286432789179\n",
      "#Lags Used : 1\n",
      "Number of Observations Used : 1716\n",
      "Faible preuve contre l'hypothèse nulle, la série temporelle a une racine unitaire, ce qui indique qu'elle est non stationnaire \n",
      "=============================================================================================================================\n",
      "Augmented Dickey-Fuller test (DAF):\n",
      "\n",
      "\n",
      "ADF Test Statistic : -2.0191937805459053\n",
      "p-value : 0.27822121995145543\n",
      "#Lags Used : 1\n",
      "Number of Observations Used : 1716\n",
      "Faible preuve contre l'hypothèse nulle, la série temporelle a une racine unitaire, ce qui indique qu'elle est non stationnaire \n",
      "=============================================================================================================================\n",
      "Augmented Dickey-Fuller test (DAF):\n",
      "\n",
      "\n",
      "ADF Test Statistic : -1.9450721049970212\n",
      "p-value : 0.31116366685599406\n",
      "#Lags Used : 8\n",
      "Number of Observations Used : 1709\n",
      "Faible preuve contre l'hypothèse nulle, la série temporelle a une racine unitaire, ce qui indique qu'elle est non stationnaire \n",
      "=============================================================================================================================\n",
      "Augmented Dickey-Fuller test (DAF):\n",
      "\n",
      "\n",
      "ADF Test Statistic : -2.1112072259497574\n",
      "p-value : 0.24003206482997308\n",
      "#Lags Used : 1\n",
      "Number of Observations Used : 1716\n",
      "Faible preuve contre l'hypothèse nulle, la série temporelle a une racine unitaire, ce qui indique qu'elle est non stationnaire \n",
      "=============================================================================================================================\n",
      "Augmented Dickey-Fuller test (DAF):\n",
      "\n",
      "\n",
      "ADF Test Statistic : -43.84126785742832\n",
      "p-value : 0.0\n",
      "#Lags Used : 0\n",
      "Number of Observations Used : 1717\n",
      "Preuves solides contre l'hypothèse nulle, rejette l'hypothèse nulle. Les données n'ont pas de racine unitaire et sont stationnaires\n",
      "=============================================================================================================================\n",
      "Augmented Dickey-Fuller test (DAF):\n",
      "\n",
      "\n",
      "ADF Test Statistic : -0.7678631473750409\n",
      "p-value : 0.8283802723604428\n",
      "#Lags Used : 0\n",
      "Number of Observations Used : 1717\n",
      "Faible preuve contre l'hypothèse nulle, la série temporelle a une racine unitaire, ce qui indique qu'elle est non stationnaire \n",
      "=============================================================================================================================\n",
      "Augmented Dickey-Fuller test (DAF):\n",
      "\n",
      "\n",
      "ADF Test Statistic : -0.9868169119261414\n",
      "p-value : 0.7580421107083223\n",
      "#Lags Used : 7\n",
      "Number of Observations Used : 1710\n",
      "Faible preuve contre l'hypothèse nulle, la série temporelle a une racine unitaire, ce qui indique qu'elle est non stationnaire \n",
      "=============================================================================================================================\n",
      "Augmented Dickey-Fuller test (DAF):\n",
      "\n",
      "\n",
      "ADF Test Statistic : -0.8206229466547619\n",
      "p-value : 0.8129890512720528\n",
      "#Lags Used : 1\n",
      "Number of Observations Used : 1716\n",
      "Faible preuve contre l'hypothèse nulle, la série temporelle a une racine unitaire, ce qui indique qu'elle est non stationnaire \n",
      "=============================================================================================================================\n",
      "Augmented Dickey-Fuller test (DAF):\n",
      "\n",
      "\n",
      "ADF Test Statistic : -0.8679152010303067\n",
      "p-value : 0.7983547355213919\n",
      "#Lags Used : 1\n",
      "Number of Observations Used : 1716\n",
      "Faible preuve contre l'hypothèse nulle, la série temporelle a une racine unitaire, ce qui indique qu'elle est non stationnaire \n",
      "=============================================================================================================================\n",
      "Augmented Dickey-Fuller test (DAF):\n",
      "\n",
      "\n",
      "ADF Test Statistic : -12.366861500773261\n",
      "p-value : 5.389916583870033e-23\n",
      "#Lags Used : 11\n",
      "Number of Observations Used : 1706\n",
      "Preuves solides contre l'hypothèse nulle, rejette l'hypothèse nulle. Les données n'ont pas de racine unitaire et sont stationnaires\n",
      "=============================================================================================================================\n",
      "Augmented Dickey-Fuller test (DAF):\n",
      "\n",
      "\n",
      "ADF Test Statistic : -0.576554546178302\n",
      "p-value : 0.8761922240428446\n",
      "#Lags Used : 0\n",
      "Number of Observations Used : 1717\n",
      "Faible preuve contre l'hypothèse nulle, la série temporelle a une racine unitaire, ce qui indique qu'elle est non stationnaire \n",
      "=============================================================================================================================\n",
      "Augmented Dickey-Fuller test (DAF):\n",
      "\n",
      "\n",
      "ADF Test Statistic : -0.6107465717751911\n",
      "p-value : 0.8685352052139292\n",
      "#Lags Used : 0\n",
      "Number of Observations Used : 1717\n",
      "Faible preuve contre l'hypothèse nulle, la série temporelle a une racine unitaire, ce qui indique qu'elle est non stationnaire \n",
      "=============================================================================================================================\n",
      "Augmented Dickey-Fuller test (DAF):\n",
      "\n",
      "\n",
      "ADF Test Statistic : -0.5791149524297273\n",
      "p-value : 0.8756317047333095\n",
      "#Lags Used : 1\n",
      "Number of Observations Used : 1716\n",
      "Faible preuve contre l'hypothèse nulle, la série temporelle a une racine unitaire, ce qui indique qu'elle est non stationnaire \n",
      "=============================================================================================================================\n",
      "Augmented Dickey-Fuller test (DAF):\n",
      "\n",
      "\n",
      "ADF Test Statistic : -0.5388235370313764\n",
      "p-value : 0.8842151150480103\n",
      "#Lags Used : 6\n",
      "Number of Observations Used : 1711\n",
      "Faible preuve contre l'hypothèse nulle, la série temporelle a une racine unitaire, ce qui indique qu'elle est non stationnaire \n",
      "=============================================================================================================================\n",
      "Augmented Dickey-Fuller test (DAF):\n",
      "\n",
      "\n",
      "ADF Test Statistic : -28.198814600177574\n",
      "p-value : 0.0\n",
      "#Lags Used : 1\n",
      "Number of Observations Used : 1716\n",
      "Preuves solides contre l'hypothèse nulle, rejette l'hypothèse nulle. Les données n'ont pas de racine unitaire et sont stationnaires\n",
      "=============================================================================================================================\n",
      "Augmented Dickey-Fuller test (DAF):\n",
      "\n",
      "\n",
      "ADF Test Statistic : 0.16071737888260337\n",
      "p-value : 0.9699702615510859\n",
      "#Lags Used : 25\n",
      "Number of Observations Used : 1692\n",
      "Faible preuve contre l'hypothèse nulle, la série temporelle a une racine unitaire, ce qui indique qu'elle est non stationnaire \n",
      "=============================================================================================================================\n",
      "Augmented Dickey-Fuller test (DAF):\n",
      "\n",
      "\n",
      "ADF Test Statistic : -1.3342535656126375\n",
      "p-value : 0.6133592661742185\n",
      "#Lags Used : 0\n",
      "Number of Observations Used : 1717\n",
      "Faible preuve contre l'hypothèse nulle, la série temporelle a une racine unitaire, ce qui indique qu'elle est non stationnaire \n",
      "=============================================================================================================================\n",
      "Augmented Dickey-Fuller test (DAF):\n",
      "\n",
      "\n"
     ]
    },
    {
     "name": "stdout",
     "output_type": "stream",
     "text": [
      "ADF Test Statistic : -1.3122296612029172\n",
      "p-value : 0.6235588214950413\n",
      "#Lags Used : 1\n",
      "Number of Observations Used : 1716\n",
      "Faible preuve contre l'hypothèse nulle, la série temporelle a une racine unitaire, ce qui indique qu'elle est non stationnaire \n",
      "=============================================================================================================================\n",
      "Augmented Dickey-Fuller test (DAF):\n",
      "\n",
      "\n",
      "ADF Test Statistic : -1.2928527333029833\n",
      "p-value : 0.6324358201495837\n",
      "#Lags Used : 2\n",
      "Number of Observations Used : 1715\n",
      "Faible preuve contre l'hypothèse nulle, la série temporelle a une racine unitaire, ce qui indique qu'elle est non stationnaire \n",
      "=============================================================================================================================\n",
      "Augmented Dickey-Fuller test (DAF):\n",
      "\n",
      "\n",
      "ADF Test Statistic : -1.2239449934299171\n",
      "p-value : 0.6632113056656422\n",
      "#Lags Used : 9\n",
      "Number of Observations Used : 1708\n",
      "Faible preuve contre l'hypothèse nulle, la série temporelle a une racine unitaire, ce qui indique qu'elle est non stationnaire \n",
      "=============================================================================================================================\n",
      "Augmented Dickey-Fuller test (DAF):\n",
      "\n",
      "\n",
      "ADF Test Statistic : -3.6810202942181993\n",
      "p-value : 0.004388180893132909\n",
      "#Lags Used : 22\n",
      "Number of Observations Used : 1695\n",
      "Preuves solides contre l'hypothèse nulle, rejette l'hypothèse nulle. Les données n'ont pas de racine unitaire et sont stationnaires\n",
      "=============================================================================================================================\n",
      "Augmented Dickey-Fuller test (DAF):\n",
      "\n",
      "\n",
      "ADF Test Statistic : -44.21468654510983\n",
      "p-value : 0.0\n",
      "#Lags Used : 0\n",
      "Number of Observations Used : 1717\n",
      "Preuves solides contre l'hypothèse nulle, rejette l'hypothèse nulle. Les données n'ont pas de racine unitaire et sont stationnaires\n",
      "=============================================================================================================================\n",
      "Augmented Dickey-Fuller test (DAF):\n",
      "\n",
      "\n",
      "ADF Test Statistic : -2.367210818425414\n",
      "p-value : 0.1512055333728467\n",
      "#Lags Used : 1\n",
      "Number of Observations Used : 1716\n",
      "Faible preuve contre l'hypothèse nulle, la série temporelle a une racine unitaire, ce qui indique qu'elle est non stationnaire \n",
      "=============================================================================================================================\n",
      "Augmented Dickey-Fuller test (DAF):\n",
      "\n",
      "\n",
      "ADF Test Statistic : -2.321656683488232\n",
      "p-value : 0.1650783567828717\n",
      "#Lags Used : 2\n",
      "Number of Observations Used : 1715\n",
      "Faible preuve contre l'hypothèse nulle, la série temporelle a une racine unitaire, ce qui indique qu'elle est non stationnaire \n",
      "=============================================================================================================================\n",
      "Augmented Dickey-Fuller test (DAF):\n",
      "\n",
      "\n",
      "ADF Test Statistic : -2.2898165985870365\n",
      "p-value : 0.17527335861337778\n",
      "#Lags Used : 2\n",
      "Number of Observations Used : 1715\n",
      "Faible preuve contre l'hypothèse nulle, la série temporelle a une racine unitaire, ce qui indique qu'elle est non stationnaire \n",
      "=============================================================================================================================\n",
      "Augmented Dickey-Fuller test (DAF):\n",
      "\n",
      "\n",
      "ADF Test Statistic : -2.392700976062609\n",
      "p-value : 0.14380711087450693\n",
      "#Lags Used : 1\n",
      "Number of Observations Used : 1716\n",
      "Faible preuve contre l'hypothèse nulle, la série temporelle a une racine unitaire, ce qui indique qu'elle est non stationnaire \n",
      "=============================================================================================================================\n",
      "Augmented Dickey-Fuller test (DAF):\n",
      "\n",
      "\n",
      "ADF Test Statistic : -2.380351584186226\n",
      "p-value : 0.14735899197557772\n",
      "#Lags Used : 1\n",
      "Number of Observations Used : 1716\n",
      "Faible preuve contre l'hypothèse nulle, la série temporelle a une racine unitaire, ce qui indique qu'elle est non stationnaire \n",
      "=============================================================================================================================\n",
      "Augmented Dickey-Fuller test (DAF):\n",
      "\n",
      "\n",
      "ADF Test Statistic : -2.6238516962226717\n",
      "p-value : 0.08816712268351373\n",
      "#Lags Used : 23\n",
      "Number of Observations Used : 1694\n",
      "Faible preuve contre l'hypothèse nulle, la série temporelle a une racine unitaire, ce qui indique qu'elle est non stationnaire \n",
      "=============================================================================================================================\n",
      "Augmented Dickey-Fuller test (DAF):\n",
      "\n",
      "\n",
      "ADF Test Statistic : -0.8495910996404835\n",
      "p-value : 0.8041194904767216\n",
      "#Lags Used : 0\n",
      "Number of Observations Used : 1717\n",
      "Faible preuve contre l'hypothèse nulle, la série temporelle a une racine unitaire, ce qui indique qu'elle est non stationnaire \n",
      "=============================================================================================================================\n",
      "Augmented Dickey-Fuller test (DAF):\n",
      "\n",
      "\n",
      "ADF Test Statistic : -0.8804532984393219\n",
      "p-value : 0.794341259458255\n",
      "#Lags Used : 3\n",
      "Number of Observations Used : 1714\n",
      "Faible preuve contre l'hypothèse nulle, la série temporelle a une racine unitaire, ce qui indique qu'elle est non stationnaire \n",
      "=============================================================================================================================\n",
      "Augmented Dickey-Fuller test (DAF):\n",
      "\n",
      "\n",
      "ADF Test Statistic : -0.9030664092123639\n",
      "p-value : 0.7869609278312619\n",
      "#Lags Used : 3\n",
      "Number of Observations Used : 1714\n",
      "Faible preuve contre l'hypothèse nulle, la série temporelle a une racine unitaire, ce qui indique qu'elle est non stationnaire \n",
      "=============================================================================================================================\n",
      "Augmented Dickey-Fuller test (DAF):\n",
      "\n",
      "\n",
      "ADF Test Statistic : -0.8050980861465262\n",
      "p-value : 0.8176199544875633\n",
      "#Lags Used : 2\n",
      "Number of Observations Used : 1715\n",
      "Faible preuve contre l'hypothèse nulle, la série temporelle a une racine unitaire, ce qui indique qu'elle est non stationnaire \n",
      "=============================================================================================================================\n",
      "Augmented Dickey-Fuller test (DAF):\n",
      "\n",
      "\n",
      "ADF Test Statistic : -0.8050980861465262\n",
      "p-value : 0.8176199544875633\n",
      "#Lags Used : 2\n",
      "Number of Observations Used : 1715\n",
      "Faible preuve contre l'hypothèse nulle, la série temporelle a une racine unitaire, ce qui indique qu'elle est non stationnaire \n",
      "=============================================================================================================================\n",
      "Augmented Dickey-Fuller test (DAF):\n",
      "\n",
      "\n",
      "ADF Test Statistic : -2.8441602682432117\n",
      "p-value : 0.05223739850971977\n",
      "#Lags Used : 14\n",
      "Number of Observations Used : 1703\n",
      "Faible preuve contre l'hypothèse nulle, la série temporelle a une racine unitaire, ce qui indique qu'elle est non stationnaire \n",
      "=============================================================================================================================\n"
     ]
    },
    {
     "data": {
      "text/plain": [
       "Open             None\n",
       "High             None\n",
       "Low              None\n",
       "Close            None\n",
       "Adj Close        None\n",
       "                 ... \n",
       "USO_High         None\n",
       "USO_Low          None\n",
       "USO_Close        None\n",
       "USO_Adj Close    None\n",
       "USO_Volume       None\n",
       "Length: 80, dtype: object"
      ]
     },
     "execution_count": 45,
     "metadata": {},
     "output_type": "execute_result"
    }
   ],
   "source": [
    "df.aggregate(stationnarite)"
   ]
  },
  {
   "cell_type": "markdown",
   "metadata": {},
   "source": [
    "- Au sens de Dickey-Fuller Augmenté, toutes les variables sont non stationnaires"
   ]
  },
  {
   "cell_type": "code",
   "execution_count": null,
   "metadata": {},
   "outputs": [],
   "source": []
  }
 ],
 "metadata": {
  "kernelspec": {
   "display_name": "Python 3",
   "language": "python",
   "name": "python3"
  },
  "language_info": {
   "codemirror_mode": {
    "name": "ipython",
    "version": 3
   },
   "file_extension": ".py",
   "mimetype": "text/x-python",
   "name": "python",
   "nbconvert_exporter": "python",
   "pygments_lexer": "ipython3",
   "version": "3.8.3"
  }
 },
 "nbformat": 4,
 "nbformat_minor": 4
}
